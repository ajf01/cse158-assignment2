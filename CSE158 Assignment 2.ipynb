{
 "cells": [
  {
   "cell_type": "code",
   "execution_count": 1,
   "metadata": {},
   "outputs": [],
   "source": [
    "import pandas as pd\n",
    "import geopandas as gpd\n",
    "import numpy as np\n",
    "import matplotlib.pyplot as plt\n",
    "import seaborn as sns\n",
    "import gzip\n",
    "import string\n",
    "\n",
    "from sklearn.feature_extraction.text import TfidfVectorizer\n",
    "from sklearn.feature_extraction.text import CountVectorizer\n",
    "from sklearn.model_selection import train_test_split\n",
    "\n",
    "from collections import defaultdict\n",
    "from sklearn.linear_model import LogisticRegression\n",
    "from sklearn.ensemble import RandomForestClassifier\n",
    "from sklearn.neighbors import KNeighborsRegressor\n",
    "from sklearn.neighbors import KNeighborsClassifier\n",
    "from sklearn.neural_network import MLPClassifier\n",
    "from sklearn.svm import SVC\n",
    "from sklearn.naive_bayes import GaussianNB\n",
    "from sklearn.ensemble import AdaBoostClassifier\n",
    "from sklearn.gaussian_process import GaussianProcessClassifier\n",
    "from sklearn.gaussian_process.kernels import RBF"
   ]
  },
  {
   "cell_type": "code",
   "execution_count": 2,
   "metadata": {},
   "outputs": [],
   "source": [
    "def readJSON(path):\n",
    "    for l in gzip.open(path, 'r+'):\n",
    "        d = eval(l)\n",
    "        u = d['userID']\n",
    "        try:\n",
    "            g = d['gameID']\n",
    "        except Exception as e:\n",
    "            g = None\n",
    "        yield u,g,d\n",
    "    \n",
    "def parseData(path):\n",
    "    for l in gzip.open(path, 'r+'):\n",
    "        yield eval(l)"
   ]
  },
  {
   "cell_type": "code",
   "execution_count": 3,
   "metadata": {},
   "outputs": [],
   "source": [
    "cars = pd.read_csv('vehicles.csv')"
   ]
  },
  {
   "cell_type": "code",
   "execution_count": 4,
   "metadata": {},
   "outputs": [
    {
     "data": {
      "text/plain": [
       "sedan          0.267354\n",
       "SUV            0.231224\n",
       "pickup         0.125459\n",
       "truck          0.103319\n",
       "other          0.069933\n",
       "coupe          0.055304\n",
       "hatchback      0.047436\n",
       "wagon          0.030315\n",
       "van            0.027713\n",
       "convertible    0.019868\n",
       "mini-van       0.018129\n",
       "bus            0.002075\n",
       "offroad        0.001873\n",
       "Name: type, dtype: float64"
      ]
     },
     "execution_count": 4,
     "metadata": {},
     "output_type": "execute_result"
    }
   ],
   "source": [
    "temp = cars.drop(columns=['Unnamed: 0', 'url', 'region_url', 'VIN', 'image_url', 'lat','long','posting_date'])['type'].value_counts()\n",
    "cars.drop(columns=['Unnamed: 0', 'url', 'region_url', 'VIN', 'image_url', 'lat','long','posting_date'])['type'].value_counts()/sum(temp)"
   ]
  },
  {
   "cell_type": "code",
   "execution_count": 5,
   "metadata": {},
   "outputs": [
    {
     "data": {
      "text/plain": [
       "sedan          0.294327\n",
       "SUV            0.263000\n",
       "truck          0.154327\n",
       "pickup         0.074595\n",
       "coupe          0.050940\n",
       "hatchback      0.043999\n",
       "van            0.042355\n",
       "mini-van       0.026498\n",
       "convertible    0.021383\n",
       "wagon          0.019476\n",
       "other          0.004521\n",
       "offroad        0.003379\n",
       "bus            0.001199\n",
       "Name: type, dtype: float64"
      ]
     },
     "execution_count": 5,
     "metadata": {},
     "output_type": "execute_result"
    }
   ],
   "source": [
    "wack = cars.drop(columns=['Unnamed: 0', 'url', 'region_url', 'VIN', 'image_url', 'lat','long','posting_date']).dropna()['type'].value_counts()\n",
    "wack/sum(wack)"
   ]
  },
  {
   "cell_type": "code",
   "execution_count": 6,
   "metadata": {},
   "outputs": [
    {
     "data": {
      "text/plain": [
       "<matplotlib.axes._subplots.AxesSubplot at 0x1f288650348>"
      ]
     },
     "execution_count": 6,
     "metadata": {},
     "output_type": "execute_result"
    },
    {
     "data": {
      "image/png": "[encoded data removed]",
      "text/plain": [
       "<Figure size 432x288 with 1 Axes>"
      ]
     },
     "metadata": {
      "needs_background": "light"
     },
     "output_type": "display_data"
    }
   ],
   "source": [
    "temp.plot(kind='bar')"
   ]
  },
  {
   "cell_type": "code",
   "execution_count": 7,
   "metadata": {},
   "outputs": [
    {
     "data": {
      "text/plain": [
       "<matplotlib.axes._subplots.AxesSubplot at 0x1f288ac1208>"
      ]
     },
     "execution_count": 7,
     "metadata": {},
     "output_type": "execute_result"
    },
    {
     "data": {
      "image/png": "[encoded data removed]",
      "text/plain": [
       "<Figure size 432x288 with 1 Axes>"
      ]
     },
     "metadata": {
      "needs_background": "light"
     },
     "output_type": "display_data"
    }
   ],
   "source": [
    "wack.plot(kind='bar')"
   ]
  },
  {
   "cell_type": "code",
   "execution_count": 8,
   "metadata": {},
   "outputs": [
    {
     "data": {
      "text/plain": [
       "ford               0.181062\n",
       "chevrolet          0.147677\n",
       "toyota             0.087676\n",
       "honda              0.058792\n",
       "nissan             0.053760\n",
       "jeep               0.048103\n",
       "ram                0.040221\n",
       "gmc                0.039244\n",
       "dodge              0.038023\n",
       "bmw                0.028073\n",
       "hyundai            0.024944\n",
       "mercedes-benz      0.024155\n",
       "subaru             0.023887\n",
       "volkswagen         0.023839\n",
       "kia                0.020123\n",
       "chrysler           0.017043\n",
       "lexus              0.016180\n",
       "cadillac           0.015325\n",
       "buick              0.013657\n",
       "mazda              0.013480\n",
       "audi               0.012689\n",
       "acura              0.009109\n",
       "infiniti           0.008441\n",
       "lincoln            0.007586\n",
       "pontiac            0.006902\n",
       "volvo              0.006514\n",
       "mini               0.005296\n",
       "mitsubishi         0.005230\n",
       "porsche            0.004043\n",
       "rover              0.003777\n",
       "mercury            0.003739\n",
       "saturn             0.003166\n",
       "tesla              0.002425\n",
       "jaguar             0.002409\n",
       "fiat               0.002170\n",
       "alfa-romeo         0.000425\n",
       "harley-davidson    0.000316\n",
       "ferrari            0.000218\n",
       "datsun             0.000143\n",
       "aston-martin       0.000080\n",
       "land rover         0.000048\n",
       "morgan             0.000007\n",
       "hennessey          0.000002\n",
       "Name: manufacturer, dtype: float64"
      ]
     },
     "execution_count": 8,
     "metadata": {},
     "output_type": "execute_result"
    }
   ],
   "source": [
    "temp2 = cars.drop(columns=['Unnamed: 0', 'url', 'region_url', 'VIN', 'image_url', 'lat','long','posting_date'])['manufacturer'].value_counts()\n",
    "temp2/sum(temp2)"
   ]
  },
  {
   "cell_type": "code",
   "execution_count": 9,
   "metadata": {},
   "outputs": [
    {
     "data": {
      "text/plain": [
       "ford               0.189285\n",
       "chevrolet          0.152033\n",
       "toyota             0.087735\n",
       "honda              0.065336\n",
       "nissan             0.055278\n",
       "jeep               0.040015\n",
       "gmc                0.039193\n",
       "dodge              0.036510\n",
       "ram                0.034580\n",
       "hyundai            0.025459\n",
       "subaru             0.024580\n",
       "bmw                0.023975\n",
       "volkswagen         0.022536\n",
       "mercedes-benz      0.021817\n",
       "kia                0.019625\n",
       "chrysler           0.019088\n",
       "cadillac           0.015926\n",
       "lexus              0.014510\n",
       "mazda              0.014111\n",
       "buick              0.013323\n",
       "audi               0.010823\n",
       "acura              0.009282\n",
       "pontiac            0.009236\n",
       "lincoln            0.008619\n",
       "volvo              0.007843\n",
       "infiniti           0.006884\n",
       "mitsubishi         0.006816\n",
       "mercury            0.005491\n",
       "mini               0.004783\n",
       "saturn             0.004418\n",
       "rover              0.002592\n",
       "porsche            0.002569\n",
       "jaguar             0.002409\n",
       "fiat               0.001827\n",
       "tesla              0.000662\n",
       "alfa-romeo         0.000205\n",
       "harley-davidson    0.000194\n",
       "land rover         0.000171\n",
       "datsun             0.000114\n",
       "ferrari            0.000080\n",
       "aston-martin       0.000068\n",
       "Name: manufacturer, dtype: float64"
      ]
     },
     "execution_count": 9,
     "metadata": {},
     "output_type": "execute_result"
    }
   ],
   "source": [
    "wack2 = cars.drop(columns=['Unnamed: 0', 'url', 'region_url', 'VIN', 'image_url', 'lat','long','posting_date']).dropna()['manufacturer'].value_counts()\n",
    "wack2/sum(wack2)"
   ]
  },
  {
   "cell_type": "code",
   "execution_count": 10,
   "metadata": {},
   "outputs": [
    {
     "data": {
      "text/plain": [
       "<matplotlib.axes._subplots.AxesSubplot at 0x1f288b91488>"
      ]
     },
     "execution_count": 10,
     "metadata": {},
     "output_type": "execute_result"
    },
    {
     "data": {
      "image/png": "[encoded data removed]",
      "text/plain": [
       "<Figure size 432x288 with 1 Axes>"
      ]
     },
     "metadata": {
      "needs_background": "light"
     },
     "output_type": "display_data"
    }
   ],
   "source": [
    "temp2.plot(kind='bar')"
   ]
  },
  {
   "cell_type": "code",
   "execution_count": 11,
   "metadata": {},
   "outputs": [
    {
     "data": {
      "text/plain": [
       "<matplotlib.axes._subplots.AxesSubplot at 0x1f28989b988>"
      ]
     },
     "execution_count": 11,
     "metadata": {},
     "output_type": "execute_result"
    },
    {
     "data": {
      "image/png": "[encoded data removed]",
      "text/plain": [
       "<Figure size 432x288 with 1 Axes>"
      ]
     },
     "metadata": {
      "needs_background": "light"
     },
     "output_type": "display_data"
    }
   ],
   "source": [
    "wack2.plot(kind='bar')"
   ]
  },
  {
   "cell_type": "code",
   "execution_count": 12,
   "metadata": {},
   "outputs": [
    {
     "data": {
      "text/html": [
       "<div>\n",
       "<style scoped>\n",
       "    .dataframe tbody tr th:only-of-type {\n",
       "        vertical-align: middle;\n",
       "    }\n",
       "\n",
       "    .dataframe tbody tr th {\n",
       "        vertical-align: top;\n",
       "    }\n",
       "\n",
       "    .dataframe thead th {\n",
       "        text-align: right;\n",
       "    }\n",
       "</style>\n",
       "<table border=\"1\" class=\"dataframe\">\n",
       "  <thead>\n",
       "    <tr style=\"text-align: right;\">\n",
       "      <th></th>\n",
       "      <th>id</th>\n",
       "      <th>region</th>\n",
       "      <th>price</th>\n",
       "      <th>year</th>\n",
       "      <th>manufacturer</th>\n",
       "      <th>model</th>\n",
       "      <th>condition</th>\n",
       "      <th>cylinders</th>\n",
       "      <th>fuel</th>\n",
       "      <th>odometer</th>\n",
       "      <th>title_status</th>\n",
       "      <th>transmission</th>\n",
       "      <th>drive</th>\n",
       "      <th>size</th>\n",
       "      <th>type</th>\n",
       "      <th>paint_color</th>\n",
       "      <th>description</th>\n",
       "      <th>state</th>\n",
       "    </tr>\n",
       "  </thead>\n",
       "  <tbody>\n",
       "    <tr>\n",
       "      <td>3</td>\n",
       "      <td>7240103965</td>\n",
       "      <td>auburn</td>\n",
       "      <td>2000</td>\n",
       "      <td>1974.0</td>\n",
       "      <td>chevrolet</td>\n",
       "      <td>c-10</td>\n",
       "      <td>good</td>\n",
       "      <td>4 cylinders</td>\n",
       "      <td>gas</td>\n",
       "      <td>190000.0</td>\n",
       "      <td>clean</td>\n",
       "      <td>automatic</td>\n",
       "      <td>rwd</td>\n",
       "      <td>full-size</td>\n",
       "      <td>pickup</td>\n",
       "      <td>blue</td>\n",
       "      <td>1974 chev. truck (LONG BED) NEW starter front ...</td>\n",
       "      <td>al</td>\n",
       "    </tr>\n",
       "    <tr>\n",
       "      <td>4</td>\n",
       "      <td>7239983776</td>\n",
       "      <td>auburn</td>\n",
       "      <td>19500</td>\n",
       "      <td>2005.0</td>\n",
       "      <td>ford</td>\n",
       "      <td>f350 lariat</td>\n",
       "      <td>excellent</td>\n",
       "      <td>8 cylinders</td>\n",
       "      <td>diesel</td>\n",
       "      <td>116000.0</td>\n",
       "      <td>lien</td>\n",
       "      <td>automatic</td>\n",
       "      <td>4wd</td>\n",
       "      <td>full-size</td>\n",
       "      <td>pickup</td>\n",
       "      <td>blue</td>\n",
       "      <td>2005 Ford F350 Lariat (Bullet Proofed). This t...</td>\n",
       "      <td>al</td>\n",
       "    </tr>\n",
       "    <tr>\n",
       "      <td>14</td>\n",
       "      <td>7237009212</td>\n",
       "      <td>auburn</td>\n",
       "      <td>4900</td>\n",
       "      <td>2003.0</td>\n",
       "      <td>ford</td>\n",
       "      <td>expedition</td>\n",
       "      <td>good</td>\n",
       "      <td>8 cylinders</td>\n",
       "      <td>gas</td>\n",
       "      <td>177000.0</td>\n",
       "      <td>clean</td>\n",
       "      <td>automatic</td>\n",
       "      <td>rwd</td>\n",
       "      <td>full-size</td>\n",
       "      <td>SUV</td>\n",
       "      <td>blue</td>\n",
       "      <td>2003 Ford Expedition Eddie Baurer. 5.4L 2x4, S...</td>\n",
       "      <td>al</td>\n",
       "    </tr>\n",
       "    <tr>\n",
       "      <td>19</td>\n",
       "      <td>7235942858</td>\n",
       "      <td>auburn</td>\n",
       "      <td>47000</td>\n",
       "      <td>2020.0</td>\n",
       "      <td>jeep</td>\n",
       "      <td>gladiator</td>\n",
       "      <td>like new</td>\n",
       "      <td>6 cylinders</td>\n",
       "      <td>gas</td>\n",
       "      <td>10500.0</td>\n",
       "      <td>clean</td>\n",
       "      <td>automatic</td>\n",
       "      <td>4wd</td>\n",
       "      <td>full-size</td>\n",
       "      <td>pickup</td>\n",
       "      <td>grey</td>\n",
       "      <td>I'm putting up for sale my Jeep Gladiator. I j...</td>\n",
       "      <td>al</td>\n",
       "    </tr>\n",
       "    <tr>\n",
       "      <td>47</td>\n",
       "      <td>7231143951</td>\n",
       "      <td>auburn</td>\n",
       "      <td>6250</td>\n",
       "      <td>2010.0</td>\n",
       "      <td>ford</td>\n",
       "      <td>fusion sel</td>\n",
       "      <td>good</td>\n",
       "      <td>6 cylinders</td>\n",
       "      <td>gas</td>\n",
       "      <td>82000.0</td>\n",
       "      <td>clean</td>\n",
       "      <td>automatic</td>\n",
       "      <td>fwd</td>\n",
       "      <td>full-size</td>\n",
       "      <td>sedan</td>\n",
       "      <td>silver</td>\n",
       "      <td>Driven 82,000 miles Automatic transmission Ext...</td>\n",
       "      <td>al</td>\n",
       "    </tr>\n",
       "    <tr>\n",
       "      <td>...</td>\n",
       "      <td>...</td>\n",
       "      <td>...</td>\n",
       "      <td>...</td>\n",
       "      <td>...</td>\n",
       "      <td>...</td>\n",
       "      <td>...</td>\n",
       "      <td>...</td>\n",
       "      <td>...</td>\n",
       "      <td>...</td>\n",
       "      <td>...</td>\n",
       "      <td>...</td>\n",
       "      <td>...</td>\n",
       "      <td>...</td>\n",
       "      <td>...</td>\n",
       "      <td>...</td>\n",
       "      <td>...</td>\n",
       "      <td>...</td>\n",
       "      <td>...</td>\n",
       "    </tr>\n",
       "    <tr>\n",
       "      <td>458204</td>\n",
       "      <td>7240975107</td>\n",
       "      <td>wausau</td>\n",
       "      <td>4495</td>\n",
       "      <td>2006.0</td>\n",
       "      <td>buick</td>\n",
       "      <td>lacrosse cx</td>\n",
       "      <td>good</td>\n",
       "      <td>6 cylinders</td>\n",
       "      <td>gas</td>\n",
       "      <td>121488.0</td>\n",
       "      <td>clean</td>\n",
       "      <td>automatic</td>\n",
       "      <td>fwd</td>\n",
       "      <td>mid-size</td>\n",
       "      <td>sedan</td>\n",
       "      <td>black</td>\n",
       "      <td>2006 Buick Lacrosse, CX 3.8 V6, 1 owner, clean...</td>\n",
       "      <td>wi</td>\n",
       "    </tr>\n",
       "    <tr>\n",
       "      <td>458208</td>\n",
       "      <td>7240959076</td>\n",
       "      <td>wausau</td>\n",
       "      <td>14995</td>\n",
       "      <td>2014.0</td>\n",
       "      <td>cadillac</td>\n",
       "      <td>srx</td>\n",
       "      <td>excellent</td>\n",
       "      <td>6 cylinders</td>\n",
       "      <td>gas</td>\n",
       "      <td>83790.0</td>\n",
       "      <td>clean</td>\n",
       "      <td>automatic</td>\n",
       "      <td>4wd</td>\n",
       "      <td>mid-size</td>\n",
       "      <td>SUV</td>\n",
       "      <td>silver</td>\n",
       "      <td>2014 Cadillac SRX All Wheel Drive Luxury Colle...</td>\n",
       "      <td>wi</td>\n",
       "    </tr>\n",
       "    <tr>\n",
       "      <td>458209</td>\n",
       "      <td>7240954682</td>\n",
       "      <td>wausau</td>\n",
       "      <td>17895</td>\n",
       "      <td>2018.0</td>\n",
       "      <td>hyundai</td>\n",
       "      <td>tucson</td>\n",
       "      <td>excellent</td>\n",
       "      <td>4 cylinders</td>\n",
       "      <td>gas</td>\n",
       "      <td>31888.0</td>\n",
       "      <td>clean</td>\n",
       "      <td>automatic</td>\n",
       "      <td>4wd</td>\n",
       "      <td>mid-size</td>\n",
       "      <td>SUV</td>\n",
       "      <td>white</td>\n",
       "      <td>2018 Hyundai Tucson SE 2.0 I4 AWD.  Carfax ver...</td>\n",
       "      <td>wi</td>\n",
       "    </tr>\n",
       "    <tr>\n",
       "      <td>458210</td>\n",
       "      <td>7240645700</td>\n",
       "      <td>wyoming</td>\n",
       "      <td>17900</td>\n",
       "      <td>2014.0</td>\n",
       "      <td>cadillac</td>\n",
       "      <td>cts coupe awd</td>\n",
       "      <td>excellent</td>\n",
       "      <td>6 cylinders</td>\n",
       "      <td>gas</td>\n",
       "      <td>53000.0</td>\n",
       "      <td>clean</td>\n",
       "      <td>automatic</td>\n",
       "      <td>4wd</td>\n",
       "      <td>mid-size</td>\n",
       "      <td>coupe</td>\n",
       "      <td>black</td>\n",
       "      <td>53,000 miles. Cosmetically, in near mint condi...</td>\n",
       "      <td>wy</td>\n",
       "    </tr>\n",
       "    <tr>\n",
       "      <td>458211</td>\n",
       "      <td>7240600465</td>\n",
       "      <td>wyoming</td>\n",
       "      <td>1300</td>\n",
       "      <td>2008.0</td>\n",
       "      <td>jeep</td>\n",
       "      <td>grand cherokee</td>\n",
       "      <td>good</td>\n",
       "      <td>8 cylinders</td>\n",
       "      <td>gas</td>\n",
       "      <td>164000.0</td>\n",
       "      <td>clean</td>\n",
       "      <td>automatic</td>\n",
       "      <td>4wd</td>\n",
       "      <td>mid-size</td>\n",
       "      <td>SUV</td>\n",
       "      <td>white</td>\n",
       "      <td>PRICE REDUCTION  Turns out the engine is toast...</td>\n",
       "      <td>wy</td>\n",
       "    </tr>\n",
       "  </tbody>\n",
       "</table>\n",
       "<p>87593 rows × 18 columns</p>\n",
       "</div>"
      ],
      "text/plain": [
       "                id   region  price    year manufacturer           model  \\\n",
       "3       7240103965   auburn   2000  1974.0    chevrolet            c-10   \n",
       "4       7239983776   auburn  19500  2005.0         ford     f350 lariat   \n",
       "14      7237009212   auburn   4900  2003.0         ford      expedition   \n",
       "19      7235942858   auburn  47000  2020.0         jeep       gladiator   \n",
       "47      7231143951   auburn   6250  2010.0         ford      fusion sel   \n",
       "...            ...      ...    ...     ...          ...             ...   \n",
       "458204  7240975107   wausau   4495  2006.0        buick     lacrosse cx   \n",
       "458208  7240959076   wausau  14995  2014.0     cadillac             srx   \n",
       "458209  7240954682   wausau  17895  2018.0      hyundai          tucson   \n",
       "458210  7240645700  wyoming  17900  2014.0     cadillac   cts coupe awd   \n",
       "458211  7240600465  wyoming   1300  2008.0         jeep  grand cherokee   \n",
       "\n",
       "        condition    cylinders    fuel  odometer title_status transmission  \\\n",
       "3            good  4 cylinders     gas  190000.0        clean    automatic   \n",
       "4       excellent  8 cylinders  diesel  116000.0         lien    automatic   \n",
       "14           good  8 cylinders     gas  177000.0        clean    automatic   \n",
       "19       like new  6 cylinders     gas   10500.0        clean    automatic   \n",
       "47           good  6 cylinders     gas   82000.0        clean    automatic   \n",
       "...           ...          ...     ...       ...          ...          ...   \n",
       "458204       good  6 cylinders     gas  121488.0        clean    automatic   \n",
       "458208  excellent  6 cylinders     gas   83790.0        clean    automatic   \n",
       "458209  excellent  4 cylinders     gas   31888.0        clean    automatic   \n",
       "458210  excellent  6 cylinders     gas   53000.0        clean    automatic   \n",
       "458211       good  8 cylinders     gas  164000.0        clean    automatic   \n",
       "\n",
       "       drive       size    type paint_color  \\\n",
       "3        rwd  full-size  pickup        blue   \n",
       "4        4wd  full-size  pickup        blue   \n",
       "14       rwd  full-size     SUV        blue   \n",
       "19       4wd  full-size  pickup        grey   \n",
       "47       fwd  full-size   sedan      silver   \n",
       "...      ...        ...     ...         ...   \n",
       "458204   fwd   mid-size   sedan       black   \n",
       "458208   4wd   mid-size     SUV      silver   \n",
       "458209   4wd   mid-size     SUV       white   \n",
       "458210   4wd   mid-size   coupe       black   \n",
       "458211   4wd   mid-size     SUV       white   \n",
       "\n",
       "                                              description state  \n",
       "3       1974 chev. truck (LONG BED) NEW starter front ...    al  \n",
       "4       2005 Ford F350 Lariat (Bullet Proofed). This t...    al  \n",
       "14      2003 Ford Expedition Eddie Baurer. 5.4L 2x4, S...    al  \n",
       "19      I'm putting up for sale my Jeep Gladiator. I j...    al  \n",
       "47      Driven 82,000 miles Automatic transmission Ext...    al  \n",
       "...                                                   ...   ...  \n",
       "458204  2006 Buick Lacrosse, CX 3.8 V6, 1 owner, clean...    wi  \n",
       "458208  2014 Cadillac SRX All Wheel Drive Luxury Colle...    wi  \n",
       "458209  2018 Hyundai Tucson SE 2.0 I4 AWD.  Carfax ver...    wi  \n",
       "458210  53,000 miles. Cosmetically, in near mint condi...    wy  \n",
       "458211  PRICE REDUCTION  Turns out the engine is toast...    wy  \n",
       "\n",
       "[87593 rows x 18 columns]"
      ]
     },
     "execution_count": 12,
     "metadata": {},
     "output_type": "execute_result"
    }
   ],
   "source": [
    "cars.drop(columns=['Unnamed: 0', 'url', 'region_url', 'VIN', 'image_url', 'lat','long','posting_date']).dropna()"
   ]
  },
  {
   "cell_type": "code",
   "execution_count": 13,
   "metadata": {},
   "outputs": [],
   "source": [
    "cars_naless = cars.drop(columns=['Unnamed: 0', 'url', 'region_url', 'VIN', 'image_url', 'lat','long','posting_date']).dropna()"
   ]
  },
  {
   "cell_type": "code",
   "execution_count": 14,
   "metadata": {},
   "outputs": [
    {
     "data": {
      "image/png": "[encoded data removed]",
      "text/plain": [
       "<Figure size 720x216 with 1 Axes>"
      ]
     },
     "metadata": {
      "needs_background": "light"
     },
     "output_type": "display_data"
    }
   ],
   "source": [
    "plt.figure(figsize = (10,3))\n",
    "cars_naless.groupby('manufacturer').mean()['price'].sort_values().plot(kind='bar');"
   ]
  },
  {
   "cell_type": "code",
   "execution_count": 15,
   "metadata": {},
   "outputs": [],
   "source": [
    "cars_0_naless = cars_naless[cars_naless['price'] != 0].reset_index(drop=True)"
   ]
  },
  {
   "cell_type": "code",
   "execution_count": 16,
   "metadata": {},
   "outputs": [
    {
     "data": {
      "image/png": "[encoded data removed]",
      "text/plain": [
       "<Figure size 720x216 with 1 Axes>"
      ]
     },
     "metadata": {
      "needs_background": "light"
     },
     "output_type": "display_data"
    }
   ],
   "source": [
    "plt.figure(figsize = (10,3))\n",
    "cars_0_naless.groupby('manufacturer').mean()['price'].sort_values().plot(kind='bar');"
   ]
  },
  {
   "cell_type": "code",
   "execution_count": 17,
   "metadata": {},
   "outputs": [
    {
     "data": {
      "text/plain": [
       "'\"Say Hello to my Little Friend\" CUSTOM, CHROME AND CRAZY C10! 1971 CHEVY C10  Location: Andover, NJ 07821 Year: 1971 Make: Chevrolet Model: C10 Vin# 1CE141B635219 Miles: 20 Brand New Engine: JEGS- Chevy 572hp - 30401 Kit, E-Z Electronic Fuel Injection 2.0, Wildwood Master Cylinder, Black Ceramic Coated Headers, Hydro-Dipped Valve Covers, Be-Cool Radiator, SureFit Air Condition System w/ Chrome Lines, Chromed Water Pump Trans: 4L80E-11\" Torque Converter 3000 RPM Stall Speed, HDM Electronics Computer Shift, JEGS-18\" Stainless Steel Double \"D\" Shaft Exhaust: PYPES - 3\" Universal Builders Exhaust w/JEGS - Stainless Steel Mufflers & Tips Brakes: Stainless Steel System & Lines Wheels: Foose Impala - 20x12 & 19x10 w/6\" Backs Spacers Tires: Michelin Super Sport -315x35x20 & 275x35x19 Competition Engineering Over-sized Wheel Tubs Custom Door Popper Entrance System Custom Fuel Tank & Stainless Steel Gas Filler Screen Cap Pioneer Stereo System & Kicker Components Custom Power Rear Window w/ Scarface-\"Say Hello to my Little Friend\", Original Etching  Want to see more Insanity? Text Me, I\\'ll be glad to accommodate.'"
      ]
     },
     "execution_count": 17,
     "metadata": {},
     "output_type": "execute_result"
    }
   ],
   "source": [
    "cars_0_naless[cars_0_naless['manufacturer'] == 'chevrolet'].sort_values('price',ascending=False)['description'].iloc[2]"
   ]
  },
  {
   "cell_type": "code",
   "execution_count": 18,
   "metadata": {},
   "outputs": [
    {
     "data": {
      "text/html": [
       "<div>\n",
       "<style scoped>\n",
       "    .dataframe tbody tr th:only-of-type {\n",
       "        vertical-align: middle;\n",
       "    }\n",
       "\n",
       "    .dataframe tbody tr th {\n",
       "        vertical-align: top;\n",
       "    }\n",
       "\n",
       "    .dataframe thead th {\n",
       "        text-align: right;\n",
       "    }\n",
       "</style>\n",
       "<table border=\"1\" class=\"dataframe\">\n",
       "  <thead>\n",
       "    <tr style=\"text-align: right;\">\n",
       "      <th></th>\n",
       "      <th>id</th>\n",
       "      <th>region</th>\n",
       "      <th>price</th>\n",
       "      <th>year</th>\n",
       "      <th>manufacturer</th>\n",
       "      <th>model</th>\n",
       "      <th>condition</th>\n",
       "      <th>cylinders</th>\n",
       "      <th>fuel</th>\n",
       "      <th>odometer</th>\n",
       "      <th>title_status</th>\n",
       "      <th>transmission</th>\n",
       "      <th>drive</th>\n",
       "      <th>size</th>\n",
       "      <th>type</th>\n",
       "      <th>paint_color</th>\n",
       "      <th>description</th>\n",
       "      <th>state</th>\n",
       "    </tr>\n",
       "  </thead>\n",
       "  <tbody>\n",
       "    <tr>\n",
       "      <td>988</td>\n",
       "      <td>7233483495</td>\n",
       "      <td>mobile</td>\n",
       "      <td>100</td>\n",
       "      <td>2015.0</td>\n",
       "      <td>lexus</td>\n",
       "      <td>es 300h</td>\n",
       "      <td>like new</td>\n",
       "      <td>6 cylinders</td>\n",
       "      <td>hybrid</td>\n",
       "      <td>52115.0</td>\n",
       "      <td>clean</td>\n",
       "      <td>automatic</td>\n",
       "      <td>fwd</td>\n",
       "      <td>full-size</td>\n",
       "      <td>sedan</td>\n",
       "      <td>white</td>\n",
       "      <td>WOW TOP OF THE LINE   LEXUS WITH ONLY 52000 MI...</td>\n",
       "      <td>al</td>\n",
       "    </tr>\n",
       "    <tr>\n",
       "      <td>1021</td>\n",
       "      <td>7231332293</td>\n",
       "      <td>mobile</td>\n",
       "      <td>100</td>\n",
       "      <td>2015.0</td>\n",
       "      <td>lexus</td>\n",
       "      <td>es 300h</td>\n",
       "      <td>like new</td>\n",
       "      <td>6 cylinders</td>\n",
       "      <td>hybrid</td>\n",
       "      <td>52115.0</td>\n",
       "      <td>clean</td>\n",
       "      <td>automatic</td>\n",
       "      <td>fwd</td>\n",
       "      <td>full-size</td>\n",
       "      <td>sedan</td>\n",
       "      <td>white</td>\n",
       "      <td>WOW TOP OF THE LINE   LEXUS WITH ONLY 52000 MI...</td>\n",
       "      <td>al</td>\n",
       "    </tr>\n",
       "    <tr>\n",
       "      <td>61966</td>\n",
       "      <td>7240343980</td>\n",
       "      <td>lehigh valley</td>\n",
       "      <td>100</td>\n",
       "      <td>2018.0</td>\n",
       "      <td>nissan</td>\n",
       "      <td>versa</td>\n",
       "      <td>excellent</td>\n",
       "      <td>4 cylinders</td>\n",
       "      <td>gas</td>\n",
       "      <td>40000.0</td>\n",
       "      <td>clean</td>\n",
       "      <td>automatic</td>\n",
       "      <td>fwd</td>\n",
       "      <td>mid-size</td>\n",
       "      <td>sedan</td>\n",
       "      <td>white</td>\n",
       "      <td>ALL CARS $100-500 DUE AT SIGNING!!!!  NO CREDI...</td>\n",
       "      <td>pa</td>\n",
       "    </tr>\n",
       "    <tr>\n",
       "      <td>32670</td>\n",
       "      <td>7237022438</td>\n",
       "      <td>frederick</td>\n",
       "      <td>100</td>\n",
       "      <td>1987.0</td>\n",
       "      <td>ford</td>\n",
       "      <td>f-150</td>\n",
       "      <td>salvage</td>\n",
       "      <td>6 cylinders</td>\n",
       "      <td>gas</td>\n",
       "      <td>265000.0</td>\n",
       "      <td>missing</td>\n",
       "      <td>manual</td>\n",
       "      <td>rwd</td>\n",
       "      <td>full-size</td>\n",
       "      <td>truck</td>\n",
       "      <td>red</td>\n",
       "      <td>This is a non-running 87 f150. NO Title Need t...</td>\n",
       "      <td>md</td>\n",
       "    </tr>\n",
       "    <tr>\n",
       "      <td>61975</td>\n",
       "      <td>7239925223</td>\n",
       "      <td>lehigh valley</td>\n",
       "      <td>100</td>\n",
       "      <td>2018.0</td>\n",
       "      <td>nissan</td>\n",
       "      <td>versa</td>\n",
       "      <td>excellent</td>\n",
       "      <td>4 cylinders</td>\n",
       "      <td>gas</td>\n",
       "      <td>40000.0</td>\n",
       "      <td>clean</td>\n",
       "      <td>automatic</td>\n",
       "      <td>fwd</td>\n",
       "      <td>mid-size</td>\n",
       "      <td>sedan</td>\n",
       "      <td>grey</td>\n",
       "      <td>ALL CARS $100-500 DUE AT SIGNING!!!!  NO CREDI...</td>\n",
       "      <td>pa</td>\n",
       "    </tr>\n",
       "    <tr>\n",
       "      <td>...</td>\n",
       "      <td>...</td>\n",
       "      <td>...</td>\n",
       "      <td>...</td>\n",
       "      <td>...</td>\n",
       "      <td>...</td>\n",
       "      <td>...</td>\n",
       "      <td>...</td>\n",
       "      <td>...</td>\n",
       "      <td>...</td>\n",
       "      <td>...</td>\n",
       "      <td>...</td>\n",
       "      <td>...</td>\n",
       "      <td>...</td>\n",
       "      <td>...</td>\n",
       "      <td>...</td>\n",
       "      <td>...</td>\n",
       "      <td>...</td>\n",
       "      <td>...</td>\n",
       "    </tr>\n",
       "    <tr>\n",
       "      <td>16792</td>\n",
       "      <td>7231974894</td>\n",
       "      <td>ocala</td>\n",
       "      <td>1</td>\n",
       "      <td>2017.0</td>\n",
       "      <td>subaru</td>\n",
       "      <td>wrx</td>\n",
       "      <td>excellent</td>\n",
       "      <td>10 cylinders</td>\n",
       "      <td>gas</td>\n",
       "      <td>47289.0</td>\n",
       "      <td>clean</td>\n",
       "      <td>other</td>\n",
       "      <td>4wd</td>\n",
       "      <td>compact</td>\n",
       "      <td>sedan</td>\n",
       "      <td>red</td>\n",
       "      <td>CREDIT AMNESTY!  SE HABLA ESPANOL !!OPEN SUNDA...</td>\n",
       "      <td>fl</td>\n",
       "    </tr>\n",
       "    <tr>\n",
       "      <td>16791</td>\n",
       "      <td>7231975026</td>\n",
       "      <td>ocala</td>\n",
       "      <td>1</td>\n",
       "      <td>2016.0</td>\n",
       "      <td>jeep</td>\n",
       "      <td>wrangler</td>\n",
       "      <td>excellent</td>\n",
       "      <td>10 cylinders</td>\n",
       "      <td>gas</td>\n",
       "      <td>34916.0</td>\n",
       "      <td>clean</td>\n",
       "      <td>other</td>\n",
       "      <td>4wd</td>\n",
       "      <td>full-size</td>\n",
       "      <td>SUV</td>\n",
       "      <td>black</td>\n",
       "      <td>CREDIT AMNESTY!  SE HABLA ESPANOL !!OPEN SUNDA...</td>\n",
       "      <td>fl</td>\n",
       "    </tr>\n",
       "    <tr>\n",
       "      <td>16780</td>\n",
       "      <td>7232989906</td>\n",
       "      <td>ocala</td>\n",
       "      <td>1</td>\n",
       "      <td>2005.0</td>\n",
       "      <td>chevrolet</td>\n",
       "      <td>silverado 3500</td>\n",
       "      <td>excellent</td>\n",
       "      <td>8 cylinders</td>\n",
       "      <td>diesel</td>\n",
       "      <td>140902.0</td>\n",
       "      <td>clean</td>\n",
       "      <td>automatic</td>\n",
       "      <td>rwd</td>\n",
       "      <td>full-size</td>\n",
       "      <td>pickup</td>\n",
       "      <td>white</td>\n",
       "      <td>2005 Chevy Silverado 3500 LT - Dually, leather...</td>\n",
       "      <td>fl</td>\n",
       "    </tr>\n",
       "    <tr>\n",
       "      <td>16744</td>\n",
       "      <td>7234836185</td>\n",
       "      <td>ocala</td>\n",
       "      <td>1</td>\n",
       "      <td>2005.0</td>\n",
       "      <td>jeep</td>\n",
       "      <td>liberty 4x4 limited</td>\n",
       "      <td>good</td>\n",
       "      <td>6 cylinders</td>\n",
       "      <td>gas</td>\n",
       "      <td>200000.0</td>\n",
       "      <td>clean</td>\n",
       "      <td>automatic</td>\n",
       "      <td>4wd</td>\n",
       "      <td>mid-size</td>\n",
       "      <td>SUV</td>\n",
       "      <td>blue</td>\n",
       "      <td>***MUST SELL  2005 JEEP LIBERTY 4x4 LIMITED $2...</td>\n",
       "      <td>fl</td>\n",
       "    </tr>\n",
       "    <tr>\n",
       "      <td>17183</td>\n",
       "      <td>7239896283</td>\n",
       "      <td>orlando</td>\n",
       "      <td>1</td>\n",
       "      <td>2013.0</td>\n",
       "      <td>subaru</td>\n",
       "      <td>brz</td>\n",
       "      <td>excellent</td>\n",
       "      <td>10 cylinders</td>\n",
       "      <td>gas</td>\n",
       "      <td>42999.0</td>\n",
       "      <td>clean</td>\n",
       "      <td>other</td>\n",
       "      <td>4wd</td>\n",
       "      <td>mid-size</td>\n",
       "      <td>coupe</td>\n",
       "      <td>grey</td>\n",
       "      <td>CREDIT AMNESTY!  SE HABLA ESPANOL !!OPEN SUNDA...</td>\n",
       "      <td>fl</td>\n",
       "    </tr>\n",
       "  </tbody>\n",
       "</table>\n",
       "<p>578 rows × 18 columns</p>\n",
       "</div>"
      ],
      "text/plain": [
       "               id         region  price    year manufacturer  \\\n",
       "988    7233483495         mobile    100  2015.0        lexus   \n",
       "1021   7231332293         mobile    100  2015.0        lexus   \n",
       "61966  7240343980  lehigh valley    100  2018.0       nissan   \n",
       "32670  7237022438      frederick    100  1987.0         ford   \n",
       "61975  7239925223  lehigh valley    100  2018.0       nissan   \n",
       "...           ...            ...    ...     ...          ...   \n",
       "16792  7231974894          ocala      1  2017.0       subaru   \n",
       "16791  7231975026          ocala      1  2016.0         jeep   \n",
       "16780  7232989906          ocala      1  2005.0    chevrolet   \n",
       "16744  7234836185          ocala      1  2005.0         jeep   \n",
       "17183  7239896283        orlando      1  2013.0       subaru   \n",
       "\n",
       "                     model  condition     cylinders    fuel  odometer  \\\n",
       "988                es 300h   like new   6 cylinders  hybrid   52115.0   \n",
       "1021               es 300h   like new   6 cylinders  hybrid   52115.0   \n",
       "61966                versa  excellent   4 cylinders     gas   40000.0   \n",
       "32670                f-150    salvage   6 cylinders     gas  265000.0   \n",
       "61975                versa  excellent   4 cylinders     gas   40000.0   \n",
       "...                    ...        ...           ...     ...       ...   \n",
       "16792                  wrx  excellent  10 cylinders     gas   47289.0   \n",
       "16791             wrangler  excellent  10 cylinders     gas   34916.0   \n",
       "16780       silverado 3500  excellent   8 cylinders  diesel  140902.0   \n",
       "16744  liberty 4x4 limited       good   6 cylinders     gas  200000.0   \n",
       "17183                  brz  excellent  10 cylinders     gas   42999.0   \n",
       "\n",
       "      title_status transmission drive       size    type paint_color  \\\n",
       "988          clean    automatic   fwd  full-size   sedan       white   \n",
       "1021         clean    automatic   fwd  full-size   sedan       white   \n",
       "61966        clean    automatic   fwd   mid-size   sedan       white   \n",
       "32670      missing       manual   rwd  full-size   truck         red   \n",
       "61975        clean    automatic   fwd   mid-size   sedan        grey   \n",
       "...            ...          ...   ...        ...     ...         ...   \n",
       "16792        clean        other   4wd    compact   sedan         red   \n",
       "16791        clean        other   4wd  full-size     SUV       black   \n",
       "16780        clean    automatic   rwd  full-size  pickup       white   \n",
       "16744        clean    automatic   4wd   mid-size     SUV        blue   \n",
       "17183        clean        other   4wd   mid-size   coupe        grey   \n",
       "\n",
       "                                             description state  \n",
       "988    WOW TOP OF THE LINE   LEXUS WITH ONLY 52000 MI...    al  \n",
       "1021   WOW TOP OF THE LINE   LEXUS WITH ONLY 52000 MI...    al  \n",
       "61966  ALL CARS $100-500 DUE AT SIGNING!!!!  NO CREDI...    pa  \n",
       "32670  This is a non-running 87 f150. NO Title Need t...    md  \n",
       "61975  ALL CARS $100-500 DUE AT SIGNING!!!!  NO CREDI...    pa  \n",
       "...                                                  ...   ...  \n",
       "16792  CREDIT AMNESTY!  SE HABLA ESPANOL !!OPEN SUNDA...    fl  \n",
       "16791  CREDIT AMNESTY!  SE HABLA ESPANOL !!OPEN SUNDA...    fl  \n",
       "16780  2005 Chevy Silverado 3500 LT - Dually, leather...    fl  \n",
       "16744  ***MUST SELL  2005 JEEP LIBERTY 4x4 LIMITED $2...    fl  \n",
       "17183  CREDIT AMNESTY!  SE HABLA ESPANOL !!OPEN SUNDA...    fl  \n",
       "\n",
       "[578 rows x 18 columns]"
      ]
     },
     "execution_count": 18,
     "metadata": {},
     "output_type": "execute_result"
    }
   ],
   "source": [
    "cars_0_naless[cars_0_naless['price'] < 101].sort_values('price',ascending=False)#['description'].iloc[3]#[:20]"
   ]
  },
  {
   "cell_type": "code",
   "execution_count": 19,
   "metadata": {},
   "outputs": [
    {
     "data": {
      "text/plain": [
       "1900"
      ]
     },
     "execution_count": 19,
     "metadata": {},
     "output_type": "execute_result"
    }
   ],
   "source": [
    "len(cars_0_naless[(cars_0_naless['description'].str.isupper()) & (cars_0_naless['price'] < 10000)]['description'].unique())#.iloc[3]#[:20]"
   ]
  },
  {
   "cell_type": "code",
   "execution_count": 20,
   "metadata": {},
   "outputs": [
    {
     "data": {
      "text/plain": [
       "{2,\n",
       " 3,\n",
       " 4,\n",
       " 5,\n",
       " 6,\n",
       " 7,\n",
       " 8,\n",
       " 9,\n",
       " 10,\n",
       " 11,\n",
       " 12,\n",
       " 13,\n",
       " 14,\n",
       " 15,\n",
       " 16,\n",
       " 17,\n",
       " 18,\n",
       " 19,\n",
       " 20,\n",
       " 21,\n",
       " 23,\n",
       " 25,\n",
       " 28,\n",
       " 29,\n",
       " 30,\n",
       " 33,\n",
       " 40,\n",
       " 41,\n",
       " 71,\n",
       " 106,\n",
       " 143,\n",
       " 189}"
      ]
     },
     "execution_count": 20,
     "metadata": {},
     "output_type": "execute_result"
    }
   ],
   "source": [
    "cars_0_naless.drop_duplicates('description',keep=False)\n",
    "jasraj = cars_0_naless['description'].value_counts()\n",
    "len(jasraj[jasraj>1])\n",
    "set(jasraj[jasraj>1].values)"
   ]
  },
  {
   "cell_type": "code",
   "execution_count": 21,
   "metadata": {},
   "outputs": [],
   "source": [
    "cleaned_cars = cars_0_naless[(cars_0_naless['price'] < 300000) & (cars_0_naless['price'] > 100)]#.sort_values('price',ascending=False)#[:20]"
   ]
  },
  {
   "cell_type": "code",
   "execution_count": 22,
   "metadata": {},
   "outputs": [],
   "source": [
    "cleaned_cars = cleaned_cars[cleaned_cars['odometer'] < 500000]"
   ]
  },
  {
   "cell_type": "code",
   "execution_count": 23,
   "metadata": {},
   "outputs": [
    {
     "data": {
      "text/html": [
       "<div>\n",
       "<style scoped>\n",
       "    .dataframe tbody tr th:only-of-type {\n",
       "        vertical-align: middle;\n",
       "    }\n",
       "\n",
       "    .dataframe tbody tr th {\n",
       "        vertical-align: top;\n",
       "    }\n",
       "\n",
       "    .dataframe thead th {\n",
       "        text-align: right;\n",
       "    }\n",
       "</style>\n",
       "<table border=\"1\" class=\"dataframe\">\n",
       "  <thead>\n",
       "    <tr style=\"text-align: right;\">\n",
       "      <th></th>\n",
       "      <th>id</th>\n",
       "      <th>region</th>\n",
       "      <th>price</th>\n",
       "      <th>year</th>\n",
       "      <th>manufacturer</th>\n",
       "      <th>model</th>\n",
       "      <th>condition</th>\n",
       "      <th>cylinders</th>\n",
       "      <th>fuel</th>\n",
       "      <th>odometer</th>\n",
       "      <th>title_status</th>\n",
       "      <th>transmission</th>\n",
       "      <th>drive</th>\n",
       "      <th>size</th>\n",
       "      <th>type</th>\n",
       "      <th>paint_color</th>\n",
       "      <th>description</th>\n",
       "      <th>state</th>\n",
       "    </tr>\n",
       "  </thead>\n",
       "  <tbody>\n",
       "    <tr>\n",
       "      <td>457</td>\n",
       "      <td>7235979040</td>\n",
       "      <td>dothan</td>\n",
       "      <td>39900</td>\n",
       "      <td>2020.0</td>\n",
       "      <td>tesla</td>\n",
       "      <td>mod 3</td>\n",
       "      <td>like new</td>\n",
       "      <td>other</td>\n",
       "      <td>electric</td>\n",
       "      <td>3461.0</td>\n",
       "      <td>clean</td>\n",
       "      <td>automatic</td>\n",
       "      <td>fwd</td>\n",
       "      <td>full-size</td>\n",
       "      <td>sedan</td>\n",
       "      <td>black</td>\n",
       "      <td>ALWAYS GARAGED, NEVER IN RAIN, NON-SMOKER MODE...</td>\n",
       "      <td>al</td>\n",
       "    </tr>\n",
       "    <tr>\n",
       "      <td>467</td>\n",
       "      <td>7235300099</td>\n",
       "      <td>dothan</td>\n",
       "      <td>11000</td>\n",
       "      <td>2001.0</td>\n",
       "      <td>ford</td>\n",
       "      <td>f350 super duty</td>\n",
       "      <td>good</td>\n",
       "      <td>other</td>\n",
       "      <td>diesel</td>\n",
       "      <td>258000.0</td>\n",
       "      <td>clean</td>\n",
       "      <td>automatic</td>\n",
       "      <td>rwd</td>\n",
       "      <td>full-size</td>\n",
       "      <td>truck</td>\n",
       "      <td>white</td>\n",
       "      <td>2001 f350 long wheel base. Very clean truck ha...</td>\n",
       "      <td>al</td>\n",
       "    </tr>\n",
       "    <tr>\n",
       "      <td>562</td>\n",
       "      <td>7239654331</td>\n",
       "      <td>huntsville / decatur</td>\n",
       "      <td>17900</td>\n",
       "      <td>2017.0</td>\n",
       "      <td>bmw</td>\n",
       "      <td>i3 range extender</td>\n",
       "      <td>excellent</td>\n",
       "      <td>other</td>\n",
       "      <td>electric</td>\n",
       "      <td>45000.0</td>\n",
       "      <td>clean</td>\n",
       "      <td>automatic</td>\n",
       "      <td>rwd</td>\n",
       "      <td>sub-compact</td>\n",
       "      <td>hatchback</td>\n",
       "      <td>white</td>\n",
       "      <td>2017 BMW I3 94ah with Range Extender, 45,000 m...</td>\n",
       "      <td>al</td>\n",
       "    </tr>\n",
       "    <tr>\n",
       "      <td>1132</td>\n",
       "      <td>7224997527</td>\n",
       "      <td>mobile</td>\n",
       "      <td>4950</td>\n",
       "      <td>2008.0</td>\n",
       "      <td>toyota</td>\n",
       "      <td>prius</td>\n",
       "      <td>good</td>\n",
       "      <td>other</td>\n",
       "      <td>gas</td>\n",
       "      <td>178532.0</td>\n",
       "      <td>clean</td>\n",
       "      <td>automatic</td>\n",
       "      <td>fwd</td>\n",
       "      <td>compact</td>\n",
       "      <td>sedan</td>\n",
       "      <td>brown</td>\n",
       "      <td>MPG:\\t48 city / 45 hwy Style:\\tStandard 4dr Ha...</td>\n",
       "      <td>al</td>\n",
       "    </tr>\n",
       "    <tr>\n",
       "      <td>1402</td>\n",
       "      <td>7238488489</td>\n",
       "      <td>anchorage / mat-su</td>\n",
       "      <td>5000</td>\n",
       "      <td>2007.0</td>\n",
       "      <td>mazda</td>\n",
       "      <td>rx8</td>\n",
       "      <td>like new</td>\n",
       "      <td>other</td>\n",
       "      <td>gas</td>\n",
       "      <td>140000.0</td>\n",
       "      <td>clean</td>\n",
       "      <td>manual</td>\n",
       "      <td>rwd</td>\n",
       "      <td>sub-compact</td>\n",
       "      <td>other</td>\n",
       "      <td>silver</td>\n",
       "      <td>Selling Mazda RX8 very good shape has 140k ok ...</td>\n",
       "      <td>ak</td>\n",
       "    </tr>\n",
       "    <tr>\n",
       "      <td>...</td>\n",
       "      <td>...</td>\n",
       "      <td>...</td>\n",
       "      <td>...</td>\n",
       "      <td>...</td>\n",
       "      <td>...</td>\n",
       "      <td>...</td>\n",
       "      <td>...</td>\n",
       "      <td>...</td>\n",
       "      <td>...</td>\n",
       "      <td>...</td>\n",
       "      <td>...</td>\n",
       "      <td>...</td>\n",
       "      <td>...</td>\n",
       "      <td>...</td>\n",
       "      <td>...</td>\n",
       "      <td>...</td>\n",
       "      <td>...</td>\n",
       "      <td>...</td>\n",
       "    </tr>\n",
       "    <tr>\n",
       "      <td>83262</td>\n",
       "      <td>7240830038</td>\n",
       "      <td>minneapolis / st paul</td>\n",
       "      <td>14750</td>\n",
       "      <td>2016.0</td>\n",
       "      <td>bmw</td>\n",
       "      <td>i3 range extender hatchback</td>\n",
       "      <td>good</td>\n",
       "      <td>other</td>\n",
       "      <td>electric</td>\n",
       "      <td>74800.0</td>\n",
       "      <td>clean</td>\n",
       "      <td>automatic</td>\n",
       "      <td>rwd</td>\n",
       "      <td>compact</td>\n",
       "      <td>hatchback</td>\n",
       "      <td>black</td>\n",
       "      <td>Up for sale is my 2016 BMW I3 Range Extender. ...</td>\n",
       "      <td>mn</td>\n",
       "    </tr>\n",
       "    <tr>\n",
       "      <td>83496</td>\n",
       "      <td>7240843927</td>\n",
       "      <td>albuquerque</td>\n",
       "      <td>6900</td>\n",
       "      <td>2010.0</td>\n",
       "      <td>mazda</td>\n",
       "      <td>rx8</td>\n",
       "      <td>good</td>\n",
       "      <td>other</td>\n",
       "      <td>gas</td>\n",
       "      <td>53000.0</td>\n",
       "      <td>salvage</td>\n",
       "      <td>manual</td>\n",
       "      <td>rwd</td>\n",
       "      <td>compact</td>\n",
       "      <td>coupe</td>\n",
       "      <td>red</td>\n",
       "      <td>2010 MAZDA RX8 SPOT ENGINE 1.3L ROTARY WHITH 5...</td>\n",
       "      <td>nm</td>\n",
       "    </tr>\n",
       "    <tr>\n",
       "      <td>83899</td>\n",
       "      <td>7240997677</td>\n",
       "      <td>pittsburgh</td>\n",
       "      <td>19995</td>\n",
       "      <td>2011.0</td>\n",
       "      <td>ford</td>\n",
       "      <td>f350 4x4</td>\n",
       "      <td>good</td>\n",
       "      <td>other</td>\n",
       "      <td>gas</td>\n",
       "      <td>72069.0</td>\n",
       "      <td>clean</td>\n",
       "      <td>automatic</td>\n",
       "      <td>4wd</td>\n",
       "      <td>full-size</td>\n",
       "      <td>truck</td>\n",
       "      <td>red</td>\n",
       "      <td>2011 Ford F350 4x4 6.2 gas. 8ft Western Plow. ...</td>\n",
       "      <td>pa</td>\n",
       "    </tr>\n",
       "    <tr>\n",
       "      <td>83921</td>\n",
       "      <td>7241009127</td>\n",
       "      <td>charleston</td>\n",
       "      <td>4600</td>\n",
       "      <td>2012.0</td>\n",
       "      <td>nissan</td>\n",
       "      <td>leaf</td>\n",
       "      <td>excellent</td>\n",
       "      <td>other</td>\n",
       "      <td>electric</td>\n",
       "      <td>58650.0</td>\n",
       "      <td>clean</td>\n",
       "      <td>automatic</td>\n",
       "      <td>fwd</td>\n",
       "      <td>mid-size</td>\n",
       "      <td>hatchback</td>\n",
       "      <td>white</td>\n",
       "      <td>show contact info  All electric, never pay for...</td>\n",
       "      <td>sc</td>\n",
       "    </tr>\n",
       "    <tr>\n",
       "      <td>84195</td>\n",
       "      <td>7241009199</td>\n",
       "      <td>milwaukee</td>\n",
       "      <td>3500</td>\n",
       "      <td>2010.0</td>\n",
       "      <td>toyota</td>\n",
       "      <td>prius hybrid</td>\n",
       "      <td>good</td>\n",
       "      <td>other</td>\n",
       "      <td>hybrid</td>\n",
       "      <td>141000.0</td>\n",
       "      <td>clean</td>\n",
       "      <td>automatic</td>\n",
       "      <td>fwd</td>\n",
       "      <td>compact</td>\n",
       "      <td>hatchback</td>\n",
       "      <td>blue</td>\n",
       "      <td>Runs and Drives Excellent. Good tires and new ...</td>\n",
       "      <td>wi</td>\n",
       "    </tr>\n",
       "  </tbody>\n",
       "</table>\n",
       "<p>262 rows × 18 columns</p>\n",
       "</div>"
      ],
      "text/plain": [
       "               id                 region  price    year manufacturer  \\\n",
       "457    7235979040                 dothan  39900  2020.0        tesla   \n",
       "467    7235300099                 dothan  11000  2001.0         ford   \n",
       "562    7239654331   huntsville / decatur  17900  2017.0          bmw   \n",
       "1132   7224997527                 mobile   4950  2008.0       toyota   \n",
       "1402   7238488489     anchorage / mat-su   5000  2007.0        mazda   \n",
       "...           ...                    ...    ...     ...          ...   \n",
       "83262  7240830038  minneapolis / st paul  14750  2016.0          bmw   \n",
       "83496  7240843927            albuquerque   6900  2010.0        mazda   \n",
       "83899  7240997677             pittsburgh  19995  2011.0         ford   \n",
       "83921  7241009127             charleston   4600  2012.0       nissan   \n",
       "84195  7241009199              milwaukee   3500  2010.0       toyota   \n",
       "\n",
       "                             model  condition cylinders      fuel  odometer  \\\n",
       "457                          mod 3   like new     other  electric    3461.0   \n",
       "467                f350 super duty       good     other    diesel  258000.0   \n",
       "562              i3 range extender  excellent     other  electric   45000.0   \n",
       "1132                         prius       good     other       gas  178532.0   \n",
       "1402                           rx8   like new     other       gas  140000.0   \n",
       "...                            ...        ...       ...       ...       ...   \n",
       "83262  i3 range extender hatchback       good     other  electric   74800.0   \n",
       "83496                          rx8       good     other       gas   53000.0   \n",
       "83899                     f350 4x4       good     other       gas   72069.0   \n",
       "83921                         leaf  excellent     other  electric   58650.0   \n",
       "84195                 prius hybrid       good     other    hybrid  141000.0   \n",
       "\n",
       "      title_status transmission drive         size       type paint_color  \\\n",
       "457          clean    automatic   fwd    full-size      sedan       black   \n",
       "467          clean    automatic   rwd    full-size      truck       white   \n",
       "562          clean    automatic   rwd  sub-compact  hatchback       white   \n",
       "1132         clean    automatic   fwd      compact      sedan       brown   \n",
       "1402         clean       manual   rwd  sub-compact      other      silver   \n",
       "...            ...          ...   ...          ...        ...         ...   \n",
       "83262        clean    automatic   rwd      compact  hatchback       black   \n",
       "83496      salvage       manual   rwd      compact      coupe         red   \n",
       "83899        clean    automatic   4wd    full-size      truck         red   \n",
       "83921        clean    automatic   fwd     mid-size  hatchback       white   \n",
       "84195        clean    automatic   fwd      compact  hatchback        blue   \n",
       "\n",
       "                                             description state  \n",
       "457    ALWAYS GARAGED, NEVER IN RAIN, NON-SMOKER MODE...    al  \n",
       "467    2001 f350 long wheel base. Very clean truck ha...    al  \n",
       "562    2017 BMW I3 94ah with Range Extender, 45,000 m...    al  \n",
       "1132   MPG:\\t48 city / 45 hwy Style:\\tStandard 4dr Ha...    al  \n",
       "1402   Selling Mazda RX8 very good shape has 140k ok ...    ak  \n",
       "...                                                  ...   ...  \n",
       "83262  Up for sale is my 2016 BMW I3 Range Extender. ...    mn  \n",
       "83496  2010 MAZDA RX8 SPOT ENGINE 1.3L ROTARY WHITH 5...    nm  \n",
       "83899  2011 Ford F350 4x4 6.2 gas. 8ft Western Plow. ...    pa  \n",
       "83921  show contact info  All electric, never pay for...    sc  \n",
       "84195  Runs and Drives Excellent. Good tires and new ...    wi  \n",
       "\n",
       "[262 rows x 18 columns]"
      ]
     },
     "execution_count": 23,
     "metadata": {},
     "output_type": "execute_result"
    }
   ],
   "source": [
    "cleaned_cars['cylinders'].unique()\n",
    "cleaned_cars[cleaned_cars['cylinders'] == 'other']"
   ]
  },
  {
   "cell_type": "code",
   "execution_count": 24,
   "metadata": {},
   "outputs": [
    {
     "data": {
      "text/plain": [
       "array(['4', '8', '6', '10', '3', 'other', '5', '12'], dtype=object)"
      ]
     },
     "execution_count": 24,
     "metadata": {},
     "output_type": "execute_result"
    }
   ],
   "source": [
    "cleaned_cars['cylinders'].apply(lambda x: x.split()[0]).unique()"
   ]
  },
  {
   "cell_type": "code",
   "execution_count": 25,
   "metadata": {},
   "outputs": [
    {
     "data": {
      "text/plain": [
       "f-150               1537\n",
       "silverado 1500      1237\n",
       "1500                 916\n",
       "camry                740\n",
       "accord               720\n",
       "                    ... \n",
       "srx                  102\n",
       "grand prix           102\n",
       "super duty f-250     102\n",
       "cooper               101\n",
       "avalanche            101\n",
       "Name: model, Length: 156, dtype: int64"
      ]
     },
     "execution_count": 25,
     "metadata": {},
     "output_type": "execute_result"
    }
   ],
   "source": [
    "semp = cleaned_cars['model'].value_counts()\n",
    "semp[semp>100]"
   ]
  },
  {
   "cell_type": "code",
   "execution_count": 26,
   "metadata": {},
   "outputs": [
    {
     "data": {
      "image/png": "[encoded data removed]",
      "text/plain": [
       "<Figure size 720x216 with 1 Axes>"
      ]
     },
     "metadata": {
      "needs_background": "light"
     },
     "output_type": "display_data"
    }
   ],
   "source": [
    "plt.figure(figsize = (10,3))\n",
    "cleaned_cars.groupby('manufacturer').mean()['price'].sort_values().plot(kind='bar');"
   ]
  },
  {
   "cell_type": "code",
   "execution_count": 27,
   "metadata": {},
   "outputs": [],
   "source": [
    "year_max = max(cleaned_cars['year'])\n",
    "year_min = min(cleaned_cars['year'])\n",
    "year = ((cleaned_cars['year']-year_min)/(year_max-year_min)).tolist()\n",
    "odom = (cleaned_cars['odometer']/max(cleaned_cars['odometer'])).tolist()"
   ]
  },
  {
   "cell_type": "code",
   "execution_count": 28,
   "metadata": {},
   "outputs": [],
   "source": [
    "manu = cleaned_cars['manufacturer'].unique().tolist()\n",
    "cond = cleaned_cars['condition'].unique().tolist()\n",
    "cycl = cleaned_cars['cylinders'].unique().tolist()\n",
    "fuel = cleaned_cars['fuel'].unique().tolist()\n",
    "tit = cleaned_cars['title_status'].unique().tolist()\n",
    "tran = cleaned_cars['transmission'].unique().tolist()\n",
    "drive = cleaned_cars['drive'].unique().tolist()\n",
    "size = cleaned_cars['size'].unique().tolist()\n",
    "typ = cleaned_cars['type'].unique().tolist()\n",
    "paint = cleaned_cars['paint_color'].unique().tolist()\n",
    "state = cleaned_cars['state'].unique().tolist()"
   ]
  },
  {
   "cell_type": "code",
   "execution_count": 29,
   "metadata": {},
   "outputs": [],
   "source": [
    "manu_One = np.zeros((len(cleaned_cars),len(manu)))\n",
    "cond_One = np.zeros((len(cleaned_cars),len(cond)))\n",
    "cycl_One = np.zeros((len(cleaned_cars),len(cycl)))\n",
    "fuel_One = np.zeros((len(cleaned_cars),len(fuel)))\n",
    "tit_One = np.zeros((len(cleaned_cars),len(tit)))\n",
    "tran_One = np.zeros((len(cleaned_cars),len(tran)))\n",
    "drive_One = np.zeros((len(cleaned_cars),len(drive)))\n",
    "size_One = np.zeros((len(cleaned_cars),len(size)))\n",
    "typ_One = np.zeros((len(cleaned_cars),len(typ)))\n",
    "paint_One = np.zeros((len(cleaned_cars),len(paint)))\n",
    "state_One = np.zeros((len(cleaned_cars),len(state)))"
   ]
  },
  {
   "cell_type": "code",
   "execution_count": 30,
   "metadata": {},
   "outputs": [],
   "source": [
    "for x in range(len(cleaned_cars)):\n",
    "    manu_One[x][manu.index(cleaned_cars['manufacturer'].iloc[x])] = 1\n",
    "    cond_One[x][cond.index(cleaned_cars['condition'].iloc[x])] = 1\n",
    "    cycl_One[x][cycl.index(cleaned_cars['cylinders'].iloc[x])] = 1\n",
    "    fuel_One[x][fuel.index(cleaned_cars['fuel'].iloc[x])] = 1\n",
    "    tit_One[x][tit.index(cleaned_cars['title_status'].iloc[x])] = 1\n",
    "    tran_One[x][tran.index(cleaned_cars['transmission'].iloc[x])] = 1\n",
    "    drive_One[x][drive.index(cleaned_cars['drive'].iloc[x])] = 1\n",
    "    size_One[x][size.index(cleaned_cars['size'].iloc[x])] = 1\n",
    "    typ_One[x][typ.index(cleaned_cars['type'].iloc[x])] = 1\n",
    "    paint_One[x][paint.index(cleaned_cars['paint_color'].iloc[x])] = 1\n",
    "    state_One[x][state.index(cleaned_cars['state'].iloc[x])] = 1"
   ]
  },
  {
   "cell_type": "code",
   "execution_count": 31,
   "metadata": {},
   "outputs": [],
   "source": [
    "categoryCounts = {}\n",
    "for x in cleaned_cars['model']:\n",
    "    if x not in categoryCounts.keys():\n",
    "        categoryCounts[x] = 0\n",
    "    categoryCounts[x] += 1\n",
    "categories = [c for c in categoryCounts if categoryCounts[c] > 100]\n",
    "catID = dict(zip(list(categories),range(len(categories))))"
   ]
  },
  {
   "cell_type": "code",
   "execution_count": 32,
   "metadata": {},
   "outputs": [],
   "source": [
    "mod_One = np.zeros((len(cleaned_cars),len(catID.keys())))\n",
    "for x in range(len(cleaned_cars)):\n",
    "    if cleaned_cars['model'].iloc[x] in catID.keys():\n",
    "        mod_One[x][catID[cleaned_cars['model'].iloc[x]]] = 1"
   ]
  },
  {
   "cell_type": "code",
   "execution_count": 33,
   "metadata": {},
   "outputs": [],
   "source": [
    "x_train, x_test, y_train, y_test = train_test_split(cleaned_cars.drop(columns=['price']), cleaned_cars['price'], test_size=0.3, random_state=42)\n",
    "avg_price = y_train.mean()"
   ]
  },
  {
   "cell_type": "code",
   "execution_count": 34,
   "metadata": {},
   "outputs": [],
   "source": [
    "train_pred = [avg_price]*len(x_train)\n",
    "test_pred = [avg_price]*len(x_test)"
   ]
  },
  {
   "cell_type": "code",
   "execution_count": 35,
   "metadata": {},
   "outputs": [],
   "source": [
    "def RMSE(predictions, labels):\n",
    "    differences = [(x-y)**2 for x,y in zip(predictions,labels)]\n",
    "    return np.sqrt(sum(differences) / len(differences))"
   ]
  },
  {
   "cell_type": "code",
   "execution_count": 36,
   "metadata": {},
   "outputs": [
    {
     "data": {
      "text/plain": [
       "11244.698183156628"
      ]
     },
     "execution_count": 36,
     "metadata": {},
     "output_type": "execute_result"
    }
   ],
   "source": [
    "RMSE(train_pred,y_train)"
   ]
  },
  {
   "cell_type": "code",
   "execution_count": 37,
   "metadata": {},
   "outputs": [
    {
     "data": {
      "text/plain": [
       "11398.689237306486"
      ]
     },
     "execution_count": 37,
     "metadata": {},
     "output_type": "execute_result"
    }
   ],
   "source": [
    "RMSE(test_pred,y_test)"
   ]
  },
  {
   "cell_type": "code",
   "execution_count": 267,
   "metadata": {},
   "outputs": [],
   "source": [
    "combined_data = np.column_stack((year,odom,manu_One,mod_One,cond_One,cycl_One,fuel_One,tit_One,\\\n",
    "                 tran_One,drive_One,size_One,typ_One,paint_One,state_One))"
   ]
  },
  {
   "cell_type": "code",
   "execution_count": 268,
   "metadata": {},
   "outputs": [],
   "source": [
    "x_train_KNN, x_test_KNN, y_train_KNN, y_test_KNN = train_test_split(combined_data, cleaned_cars['price'], test_size=0.3)\n",
    "x_v_KNN, x_t_KNN, y_v_KNN, y_t_KNN = train_test_split(x_test_KNN, y_test_KNN, test_size=0.5)"
   ]
  },
  {
   "cell_type": "code",
   "execution_count": 271,
   "metadata": {},
   "outputs": [],
   "source": [
    "neigh = KNeighborsRegressor(n_neighbors=2).fit(x_train_KNN, y_train_KNN)"
   ]
  },
  {
   "cell_type": "code",
   "execution_count": 272,
   "metadata": {},
   "outputs": [],
   "source": [
    "KNN_train_pred = neigh.predict(x_train_KNN)\n",
    "KNN_valid_pred = neigh.predict(x_v_KNN)\n",
    "KNN_test_pred = neigh.predict(x_t_KNN)"
   ]
  },
  {
   "cell_type": "code",
   "execution_count": 274,
   "metadata": {},
   "outputs": [
    {
     "data": {
      "text/plain": [
       "4168.58428684699"
      ]
     },
     "execution_count": 274,
     "metadata": {},
     "output_type": "execute_result"
    }
   ],
   "source": [
    "RMSE(KNN_train_pred,y_train_KNN)"
   ]
  },
  {
   "cell_type": "code",
   "execution_count": 275,
   "metadata": {},
   "outputs": [
    {
     "data": {
      "text/plain": [
       "7484.465323400806"
      ]
     },
     "execution_count": 275,
     "metadata": {},
     "output_type": "execute_result"
    }
   ],
   "source": [
    "RMSE(KNN_valid_pred,y_v_KNN)"
   ]
  },
  {
   "cell_type": "code",
   "execution_count": 276,
   "metadata": {},
   "outputs": [
    {
     "data": {
      "text/plain": [
       "7281.357571670167"
      ]
     },
     "execution_count": 276,
     "metadata": {},
     "output_type": "execute_result"
    }
   ],
   "source": [
    "RMSE(KNN_test_pred,y_t_KNN)"
   ]
  },
  {
   "cell_type": "code",
   "execution_count": 85,
   "metadata": {},
   "outputs": [],
   "source": [
    "#Removed Model\n",
    "ablation_data = np.column_stack((year,odom,manu_One,cond_One,cycl_One,fuel_One,tit_One,\\\n",
    "                 tran_One,drive_One,size_One,typ_One,paint_One,state_One))"
   ]
  },
  {
   "cell_type": "code",
   "execution_count": 86,
   "metadata": {},
   "outputs": [],
   "source": [
    "x_train_abl, x_test_abl, y_train_abl, y_test_abl = train_test_split(ablation_data, cleaned_cars['price'], test_size=0.3)\n",
    "x_v_abl, x_t_abl, y_v_abl, y_t_abl = train_test_split(x_test_abl, y_test_abl, test_size=0.5)"
   ]
  },
  {
   "cell_type": "code",
   "execution_count": 87,
   "metadata": {},
   "outputs": [],
   "source": [
    "abl_neigh = KNeighborsRegressor(n_neighbors=2).fit(x_train_abl, y_train_abl)"
   ]
  },
  {
   "cell_type": "code",
   "execution_count": null,
   "metadata": {},
   "outputs": [],
   "source": [
    "abl_train_pred = abl_neigh.predict(x_train_abl)\n",
    "abl_valid_pred = abl_neigh.predict(x_v_abl)\n",
    "abl_test_pred = abl_neigh.predict(x_t_abl)"
   ]
  },
  {
   "cell_type": "code",
   "execution_count": null,
   "metadata": {},
   "outputs": [],
   "source": [
    "RMSE(abl_train_pred,y_train_abl)"
   ]
  },
  {
   "cell_type": "code",
   "execution_count": null,
   "metadata": {},
   "outputs": [],
   "source": [
    "RMSE(abl_valid_pred,y_v_abl)"
   ]
  },
  {
   "cell_type": "code",
   "execution_count": null,
   "metadata": {},
   "outputs": [],
   "source": [
    "RMSE(abl_test_pred,y_t_abl)"
   ]
  },
  {
   "cell_type": "code",
   "execution_count": 287,
   "metadata": {},
   "outputs": [],
   "source": [
    "#Removed Model and Size\n",
    "abl2_data = np.column_stack((year,odom,manu_One,cond_One,cycl_One,fuel_One,tit_One,\\\n",
    "                 tran_One,drive_One,typ_One,paint_One,state_One))"
   ]
  },
  {
   "cell_type": "code",
   "execution_count": 288,
   "metadata": {},
   "outputs": [],
   "source": [
    "x_train_abl2, x_test_abl2, y_train_abl2, y_test_abl2 = train_test_split(abl2_data, cleaned_cars['price'], test_size=0.3)\n",
    "x_v_abl2, x_t_abl2, y_v_abl2, y_t_abl2 = train_test_split(x_test_abl2, y_test_abl2, test_size=0.5)"
   ]
  },
  {
   "cell_type": "code",
   "execution_count": 290,
   "metadata": {},
   "outputs": [],
   "source": [
    "abl2_neigh = KNeighborsRegressor(n_neighbors=2).fit(x_train_abl2, y_train_abl2)"
   ]
  },
  {
   "cell_type": "code",
   "execution_count": 291,
   "metadata": {},
   "outputs": [],
   "source": [
    "abl2_train_pred = abl2_neigh.predict(x_train_abl2)\n",
    "abl2_valid_pred = abl2_neigh.predict(x_v_abl2)\n",
    "abl2_test_pred = abl2_neigh.predict(x_t_abl2)"
   ]
  },
  {
   "cell_type": "code",
   "execution_count": 292,
   "metadata": {},
   "outputs": [
    {
     "data": {
      "text/plain": [
       "3902.9406840635174"
      ]
     },
     "execution_count": 292,
     "metadata": {},
     "output_type": "execute_result"
    }
   ],
   "source": [
    "RMSE(abl2_train_pred,y_train_abl2)"
   ]
  },
  {
   "cell_type": "code",
   "execution_count": 293,
   "metadata": {},
   "outputs": [
    {
     "data": {
      "text/plain": [
       "6524.814213899859"
      ]
     },
     "execution_count": 293,
     "metadata": {},
     "output_type": "execute_result"
    }
   ],
   "source": [
    "RMSE(abl2_valid_pred,y_v_abl2)"
   ]
  },
  {
   "cell_type": "code",
   "execution_count": 294,
   "metadata": {},
   "outputs": [
    {
     "data": {
      "text/plain": [
       "7416.609229061542"
      ]
     },
     "execution_count": 294,
     "metadata": {},
     "output_type": "execute_result"
    }
   ],
   "source": [
    "RMSE(abl2_test_pred,y_t_abl2)"
   ]
  },
  {
   "cell_type": "code",
   "execution_count": 297,
   "metadata": {},
   "outputs": [],
   "source": [
    "#Removed Model and Cylinder\n",
    "abl2_data2 = np.column_stack((year,odom,manu_One,cond_One,fuel_One,tit_One,\\\n",
    "                 tran_One,drive_One,size_One,typ_One,paint_One,state_One))"
   ]
  },
  {
   "cell_type": "code",
   "execution_count": 298,
   "metadata": {},
   "outputs": [],
   "source": [
    "x_train_abl2, x_test_abl2, y_train_abl2, y_test_abl2 = train_test_split(abl2_data2, cleaned_cars['price'], test_size=0.3)\n",
    "x_v_abl2, x_t_abl2, y_v_abl2, y_t_abl2 = train_test_split(x_test_abl2, y_test_abl2, test_size=0.5)"
   ]
  },
  {
   "cell_type": "code",
   "execution_count": 299,
   "metadata": {},
   "outputs": [],
   "source": [
    "abl2_neigh2 = KNeighborsRegressor(n_neighbors=2).fit(x_train_abl2, y_train_abl2)"
   ]
  },
  {
   "cell_type": "code",
   "execution_count": 301,
   "metadata": {},
   "outputs": [],
   "source": [
    "abl2_train_pred = abl2_neigh2.predict(x_train_abl2)\n",
    "abl2_valid_pred = abl2_neigh2.predict(x_v_abl2)\n",
    "abl2_test_pred = abl2_neigh2.predict(x_t_abl2)"
   ]
  },
  {
   "cell_type": "code",
   "execution_count": 302,
   "metadata": {},
   "outputs": [
    {
     "data": {
      "text/plain": [
       "3913.3072170767414"
      ]
     },
     "execution_count": 302,
     "metadata": {},
     "output_type": "execute_result"
    }
   ],
   "source": [
    "RMSE(abl2_train_pred,y_train_abl2)"
   ]
  },
  {
   "cell_type": "code",
   "execution_count": 303,
   "metadata": {},
   "outputs": [
    {
     "data": {
      "text/plain": [
       "7691.323037450282"
      ]
     },
     "execution_count": 303,
     "metadata": {},
     "output_type": "execute_result"
    }
   ],
   "source": [
    "RMSE(abl2_valid_pred,y_v_abl2)"
   ]
  },
  {
   "cell_type": "code",
   "execution_count": 304,
   "metadata": {},
   "outputs": [
    {
     "data": {
      "text/plain": [
       "7377.140547327643"
      ]
     },
     "execution_count": 304,
     "metadata": {},
     "output_type": "execute_result"
    }
   ],
   "source": [
    "RMSE(abl2_test_pred,y_t_abl2)"
   ]
  },
  {
   "cell_type": "code",
   "execution_count": 305,
   "metadata": {},
   "outputs": [],
   "source": [
    "#Removed Model and Odometer\n",
    "abl2_data2 = np.column_stack((year,manu_One,cond_One,cycl_One,fuel_One,tit_One,\\\n",
    "                 tran_One,drive_One,size_One,typ_One,paint_One,state_One))"
   ]
  },
  {
   "cell_type": "code",
   "execution_count": 306,
   "metadata": {},
   "outputs": [],
   "source": [
    "x_train_abl2, x_test_abl2, y_train_abl2, y_test_abl2 = train_test_split(abl2_data2, cleaned_cars['price'], test_size=0.3)\n",
    "x_v_abl2, x_t_abl2, y_v_abl2, y_t_abl2 = train_test_split(x_test_abl2, y_test_abl2, test_size=0.5)"
   ]
  },
  {
   "cell_type": "code",
   "execution_count": 307,
   "metadata": {},
   "outputs": [],
   "source": [
    "abl2_neigh2 = KNeighborsRegressor(n_neighbors=2).fit(x_train_abl2, y_train_abl2)"
   ]
  },
  {
   "cell_type": "code",
   "execution_count": 308,
   "metadata": {},
   "outputs": [],
   "source": [
    "abl2_train_pred = abl2_neigh2.predict(x_train_abl2)\n",
    "abl2_valid_pred = abl2_neigh2.predict(x_v_abl2)\n",
    "abl2_test_pred = abl2_neigh2.predict(x_t_abl2)"
   ]
  },
  {
   "cell_type": "code",
   "execution_count": 309,
   "metadata": {},
   "outputs": [
    {
     "data": {
      "text/plain": [
       "3960.9041416049386"
      ]
     },
     "execution_count": 309,
     "metadata": {},
     "output_type": "execute_result"
    }
   ],
   "source": [
    "RMSE(abl2_train_pred,y_train_abl2)"
   ]
  },
  {
   "cell_type": "code",
   "execution_count": 310,
   "metadata": {},
   "outputs": [
    {
     "data": {
      "text/plain": [
       "6842.6295868207735"
      ]
     },
     "execution_count": 310,
     "metadata": {},
     "output_type": "execute_result"
    }
   ],
   "source": [
    "RMSE(abl2_valid_pred,y_v_abl2)"
   ]
  },
  {
   "cell_type": "code",
   "execution_count": 311,
   "metadata": {},
   "outputs": [
    {
     "data": {
      "text/plain": [
       "6751.86347000349"
      ]
     },
     "execution_count": 311,
     "metadata": {},
     "output_type": "execute_result"
    }
   ],
   "source": [
    "RMSE(abl2_test_pred,y_t_abl2)"
   ]
  },
  {
   "cell_type": "code",
   "execution_count": 42,
   "metadata": {},
   "outputs": [],
   "source": [
    "#Removed Model, Odometer, and fuel\n",
    "abl3_data = np.column_stack((year,manu_One,cond_One,cycl_One,tit_One,\\\n",
    "                 tran_One,drive_One,size_One,typ_One,paint_One,state_One))"
   ]
  },
  {
   "cell_type": "code",
   "execution_count": 43,
   "metadata": {},
   "outputs": [],
   "source": [
    "x_train_abl3, x_test_abl3, y_train_abl3, y_test_abl3 = train_test_split(abl3_data, cleaned_cars['price'], test_size=0.3)\n",
    "x_v_abl3, x_t_abl3, y_v_abl3, y_t_abl3 = train_test_split(x_test_abl3, y_test_abl3, test_size=0.5)"
   ]
  },
  {
   "cell_type": "code",
   "execution_count": 44,
   "metadata": {},
   "outputs": [],
   "source": [
    "abl3_neigh = KNeighborsRegressor(n_neighbors=2).fit(x_train_abl3, y_train_abl3)"
   ]
  },
  {
   "cell_type": "code",
   "execution_count": 45,
   "metadata": {},
   "outputs": [],
   "source": [
    "abl3_train_pred = abl3_neigh.predict(x_train_abl3)\n",
    "abl3_valid_pred = abl3_neigh.predict(x_v_abl3)\n",
    "abl3_test_pred = abl3_neigh.predict(x_t_abl3)"
   ]
  },
  {
   "cell_type": "code",
   "execution_count": 46,
   "metadata": {},
   "outputs": [
    {
     "data": {
      "text/plain": [
       "4106.493549375709"
      ]
     },
     "execution_count": 46,
     "metadata": {},
     "output_type": "execute_result"
    }
   ],
   "source": [
    "RMSE(abl3_train_pred,y_train_abl3)"
   ]
  },
  {
   "cell_type": "code",
   "execution_count": 47,
   "metadata": {},
   "outputs": [
    {
     "data": {
      "text/plain": [
       "7263.687758535509"
      ]
     },
     "execution_count": 47,
     "metadata": {},
     "output_type": "execute_result"
    }
   ],
   "source": [
    "RMSE(abl3_valid_pred,y_v_abl3)"
   ]
  },
  {
   "cell_type": "code",
   "execution_count": 48,
   "metadata": {},
   "outputs": [
    {
     "data": {
      "text/plain": [
       "7278.911213820363"
      ]
     },
     "execution_count": 48,
     "metadata": {},
     "output_type": "execute_result"
    }
   ],
   "source": [
    "RMSE(abl3_test_pred,y_t_abl3)"
   ]
  },
  {
   "cell_type": "code",
   "execution_count": 49,
   "metadata": {},
   "outputs": [],
   "source": [
    "#Removed Model, Odometer, and Transmission\n",
    "abl3_data = np.column_stack((year,manu_One,cond_One,cycl_One,fuel_One,tit_One,\\\n",
    "                 drive_One,size_One,typ_One,paint_One,state_One))"
   ]
  },
  {
   "cell_type": "code",
   "execution_count": 50,
   "metadata": {},
   "outputs": [],
   "source": [
    "x_train_abl3, x_test_abl3, y_train_abl3, y_test_abl3 = train_test_split(abl3_data, cleaned_cars['price'], test_size=0.3)\n",
    "x_v_abl3, x_t_abl3, y_v_abl3, y_t_abl3 = train_test_split(x_test_abl3, y_test_abl3, test_size=0.5)"
   ]
  },
  {
   "cell_type": "code",
   "execution_count": 51,
   "metadata": {},
   "outputs": [],
   "source": [
    "abl3_neigh = KNeighborsRegressor(n_neighbors=2).fit(x_train_abl3, y_train_abl3)"
   ]
  },
  {
   "cell_type": "code",
   "execution_count": 52,
   "metadata": {},
   "outputs": [],
   "source": [
    "abl3_train_pred = abl3_neigh.predict(x_train_abl3)\n",
    "abl3_valid_pred = abl3_neigh.predict(x_v_abl3)\n",
    "abl3_test_pred = abl3_neigh.predict(x_t_abl3)"
   ]
  },
  {
   "cell_type": "code",
   "execution_count": 53,
   "metadata": {},
   "outputs": [
    {
     "data": {
      "text/plain": [
       "3930.5611298428585"
      ]
     },
     "execution_count": 53,
     "metadata": {},
     "output_type": "execute_result"
    }
   ],
   "source": [
    "RMSE(abl3_train_pred,y_train_abl3)"
   ]
  },
  {
   "cell_type": "code",
   "execution_count": 54,
   "metadata": {},
   "outputs": [
    {
     "data": {
      "text/plain": [
       "7363.064495832702"
      ]
     },
     "execution_count": 54,
     "metadata": {},
     "output_type": "execute_result"
    }
   ],
   "source": [
    "RMSE(abl3_valid_pred,y_v_abl3)"
   ]
  },
  {
   "cell_type": "code",
   "execution_count": 55,
   "metadata": {},
   "outputs": [
    {
     "data": {
      "text/plain": [
       "6660.766477737074"
      ]
     },
     "execution_count": 55,
     "metadata": {},
     "output_type": "execute_result"
    }
   ],
   "source": [
    "RMSE(abl3_test_pred,y_t_abl3)"
   ]
  },
  {
   "cell_type": "code",
   "execution_count": 56,
   "metadata": {},
   "outputs": [],
   "source": [
    "#Removed Model, Odometer, and State\n",
    "abl3_data = np.column_stack((year,manu_One,cond_One,cycl_One,fuel_One,tit_One,\\\n",
    "                 tran_One,drive_One,size_One,typ_One,paint_One))"
   ]
  },
  {
   "cell_type": "code",
   "execution_count": 57,
   "metadata": {},
   "outputs": [],
   "source": [
    "x_train_abl3, x_test_abl3, y_train_abl3, y_test_abl3 = train_test_split(abl3_data, cleaned_cars['price'], test_size=0.3)\n",
    "x_v_abl3, x_t_abl3, y_v_abl3, y_t_abl3 = train_test_split(x_test_abl3, y_test_abl3, test_size=0.5)"
   ]
  },
  {
   "cell_type": "code",
   "execution_count": 58,
   "metadata": {},
   "outputs": [],
   "source": [
    "abl3_neigh = KNeighborsRegressor(n_neighbors=2).fit(x_train_abl3, y_train_abl3)"
   ]
  },
  {
   "cell_type": "code",
   "execution_count": 59,
   "metadata": {},
   "outputs": [],
   "source": [
    "abl3_train_pred = abl3_neigh.predict(x_train_abl3)\n",
    "abl3_valid_pred = abl3_neigh.predict(x_v_abl3)\n",
    "abl3_test_pred = abl3_neigh.predict(x_t_abl3)"
   ]
  },
  {
   "cell_type": "code",
   "execution_count": 60,
   "metadata": {},
   "outputs": [
    {
     "data": {
      "text/plain": [
       "4011.848249062648"
      ]
     },
     "execution_count": 60,
     "metadata": {},
     "output_type": "execute_result"
    }
   ],
   "source": [
    "RMSE(abl3_train_pred,y_train_abl3)"
   ]
  },
  {
   "cell_type": "code",
   "execution_count": 61,
   "metadata": {},
   "outputs": [
    {
     "data": {
      "text/plain": [
       "6931.627618754629"
      ]
     },
     "execution_count": 61,
     "metadata": {},
     "output_type": "execute_result"
    }
   ],
   "source": [
    "RMSE(abl3_valid_pred,y_v_abl3)"
   ]
  },
  {
   "cell_type": "code",
   "execution_count": 62,
   "metadata": {},
   "outputs": [
    {
     "data": {
      "text/plain": [
       "6722.3353850835065"
      ]
     },
     "execution_count": 62,
     "metadata": {},
     "output_type": "execute_result"
    }
   ],
   "source": [
    "RMSE(abl3_test_pred,y_t_abl3)"
   ]
  },
  {
   "cell_type": "code",
   "execution_count": 64,
   "metadata": {},
   "outputs": [],
   "source": [
    "#Removed Model\n",
    "ablation_data = np.column_stack((year,odom,manu_One,cond_One,cycl_One,fuel_One,tit_One,\\\n",
    "                 tran_One,drive_One,size_One,typ_One,paint_One,state_One))"
   ]
  },
  {
   "cell_type": "code",
   "execution_count": 65,
   "metadata": {},
   "outputs": [],
   "source": [
    "x_train_abl, x_test_abl, y_train_abl, y_test_abl = train_test_split(ablation_data, cleaned_cars['price'], test_size=0.3)\n",
    "x_v_abl, x_t_abl, y_v_abl, y_t_abl = train_test_split(x_test_abl, y_test_abl, test_size=0.5)"
   ]
  },
  {
   "cell_type": "code",
   "execution_count": 66,
   "metadata": {},
   "outputs": [],
   "source": [
    "abl_neigh2 = KNeighborsRegressor().fit(x_train_abl, y_train_abl)"
   ]
  },
  {
   "cell_type": "code",
   "execution_count": 67,
   "metadata": {},
   "outputs": [],
   "source": [
    "abl_train_pred = abl_neigh2.predict(x_train_abl)\n",
    "abl_valid_pred = abl_neigh2.predict(x_v_abl)\n",
    "abl_test_pred = abl_neigh2.predict(x_t_abl)"
   ]
  },
  {
   "cell_type": "code",
   "execution_count": 68,
   "metadata": {},
   "outputs": [
    {
     "data": {
      "text/plain": [
       "5420.804240073953"
      ]
     },
     "execution_count": 68,
     "metadata": {},
     "output_type": "execute_result"
    }
   ],
   "source": [
    "RMSE(abl_train_pred,y_train_abl)"
   ]
  },
  {
   "cell_type": "code",
   "execution_count": 69,
   "metadata": {},
   "outputs": [
    {
     "data": {
      "text/plain": [
       "6064.81456418056"
      ]
     },
     "execution_count": 69,
     "metadata": {},
     "output_type": "execute_result"
    }
   ],
   "source": [
    "RMSE(abl_valid_pred,y_v_abl)"
   ]
  },
  {
   "cell_type": "code",
   "execution_count": 70,
   "metadata": {},
   "outputs": [
    {
     "data": {
      "text/plain": [
       "6654.571019217748"
      ]
     },
     "execution_count": 70,
     "metadata": {},
     "output_type": "execute_result"
    }
   ],
   "source": [
    "RMSE(abl_test_pred,y_t_abl)"
   ]
  },
  {
   "cell_type": "code",
   "execution_count": 71,
   "metadata": {},
   "outputs": [],
   "source": [
    "#Removed Model\n",
    "ablation_data = np.column_stack((year,odom,manu_One,cond_One,cycl_One,fuel_One,tit_One,\\\n",
    "                 tran_One,drive_One,size_One,typ_One,paint_One,state_One))"
   ]
  },
  {
   "cell_type": "code",
   "execution_count": 72,
   "metadata": {},
   "outputs": [],
   "source": [
    "x_train_abl, x_test_abl, y_train_abl, y_test_abl = train_test_split(ablation_data, cleaned_cars['price'], test_size=0.3)\n",
    "x_v_abl, x_t_abl, y_v_abl, y_t_abl = train_test_split(x_test_abl, y_test_abl, test_size=0.5)"
   ]
  },
  {
   "cell_type": "code",
   "execution_count": 73,
   "metadata": {},
   "outputs": [],
   "source": [
    "abl_neigh2 = KNeighborsRegressor(n_neighbors=3).fit(x_train_abl, y_train_abl)"
   ]
  },
  {
   "cell_type": "code",
   "execution_count": 74,
   "metadata": {},
   "outputs": [],
   "source": [
    "abl_train_pred = abl_neigh2.predict(x_train_abl)\n",
    "abl_valid_pred = abl_neigh2.predict(x_v_abl)\n",
    "abl_test_pred = abl_neigh2.predict(x_t_abl)"
   ]
  },
  {
   "cell_type": "code",
   "execution_count": 75,
   "metadata": {},
   "outputs": [
    {
     "data": {
      "text/plain": [
       "4625.841184319358"
      ]
     },
     "execution_count": 75,
     "metadata": {},
     "output_type": "execute_result"
    }
   ],
   "source": [
    "RMSE(abl_train_pred,y_train_abl)"
   ]
  },
  {
   "cell_type": "code",
   "execution_count": 76,
   "metadata": {},
   "outputs": [
    {
     "data": {
      "text/plain": [
       "7277.098847160762"
      ]
     },
     "execution_count": 76,
     "metadata": {},
     "output_type": "execute_result"
    }
   ],
   "source": [
    "RMSE(abl_valid_pred,y_v_abl)"
   ]
  },
  {
   "cell_type": "code",
   "execution_count": 77,
   "metadata": {},
   "outputs": [
    {
     "data": {
      "text/plain": [
       "6462.790548473938"
      ]
     },
     "execution_count": 77,
     "metadata": {},
     "output_type": "execute_result"
    }
   ],
   "source": [
    "RMSE(abl_test_pred,y_t_abl)"
   ]
  },
  {
   "cell_type": "code",
   "execution_count": 78,
   "metadata": {},
   "outputs": [],
   "source": [
    "#Removed Model\n",
    "ablation_data = np.column_stack((year,odom,manu_One,cond_One,cycl_One,fuel_One,tit_One,\\\n",
    "                 tran_One,drive_One,size_One,typ_One,paint_One,state_One))"
   ]
  },
  {
   "cell_type": "code",
   "execution_count": 79,
   "metadata": {},
   "outputs": [],
   "source": [
    "x_train_abl, x_test_abl, y_train_abl, y_test_abl = train_test_split(ablation_data, cleaned_cars['price'], test_size=0.3)\n",
    "x_v_abl, x_t_abl, y_v_abl, y_t_abl = train_test_split(x_test_abl, y_test_abl, test_size=0.5)"
   ]
  },
  {
   "cell_type": "code",
   "execution_count": 80,
   "metadata": {},
   "outputs": [],
   "source": [
    "abl_neigh2 = KNeighborsRegressor(n_neighbors=2,weights='distance').fit(x_train_abl, y_train_abl)"
   ]
  },
  {
   "cell_type": "code",
   "execution_count": 81,
   "metadata": {},
   "outputs": [],
   "source": [
    "abl_train_pred = abl_neigh2.predict(x_train_abl)\n",
    "abl_valid_pred = abl_neigh2.predict(x_v_abl)\n",
    "abl_test_pred = abl_neigh2.predict(x_t_abl)"
   ]
  },
  {
   "cell_type": "code",
   "execution_count": 82,
   "metadata": {},
   "outputs": [
    {
     "data": {
      "text/plain": [
       "142.229107520209"
      ]
     },
     "execution_count": 82,
     "metadata": {},
     "output_type": "execute_result"
    }
   ],
   "source": [
    "RMSE(abl_train_pred,y_train_abl)"
   ]
  },
  {
   "cell_type": "code",
   "execution_count": 83,
   "metadata": {},
   "outputs": [
    {
     "data": {
      "text/plain": [
       "6913.577064116473"
      ]
     },
     "execution_count": 83,
     "metadata": {},
     "output_type": "execute_result"
    }
   ],
   "source": [
    "RMSE(abl_valid_pred,y_v_abl)"
   ]
  },
  {
   "cell_type": "code",
   "execution_count": 84,
   "metadata": {},
   "outputs": [
    {
     "data": {
      "text/plain": [
       "7496.527504919038"
      ]
     },
     "execution_count": 84,
     "metadata": {},
     "output_type": "execute_result"
    }
   ],
   "source": [
    "RMSE(abl_test_pred,y_t_abl)"
   ]
  },
  {
   "cell_type": "code",
   "execution_count": null,
   "metadata": {},
   "outputs": [],
   "source": []
  }
 ],
 "metadata": {
  "kernelspec": {
   "display_name": "Python 3",
   "language": "python",
   "name": "python3"
  },
  "language_info": {
   "codemirror_mode": {
    "name": "ipython",
    "version": 3
   },
   "file_extension": ".py",
   "mimetype": "text/x-python",
   "name": "python",
   "nbconvert_exporter": "python",
   "pygments_lexer": "ipython3",
   "version": "3.7.4"
  }
 },
 "nbformat": 4,
 "nbformat_minor": 2
}
