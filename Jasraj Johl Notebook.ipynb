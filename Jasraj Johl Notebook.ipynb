{
 "cells": [
  {
   "cell_type": "code",
   "execution_count": 53,
   "metadata": {},
   "outputs": [],
   "source": [
    "import numpy as np\n",
    "import pandas as pd\n",
    "import geopandas as gpd\n",
    "import matplotlib as plt\n",
    "from nltk.stem.porter import *\n",
    "from sklearn.feature_extraction.text import TfidfVectorizer\n",
    "from nltk.tokenize import TreebankWordTokenizer\n",
    "from sklearn import *"
   ]
  },
  {
   "cell_type": "code",
   "execution_count": 2,
   "metadata": {},
   "outputs": [],
   "source": [
    "calendar = pd.read_csv('calendar.csv.gz', compression='gzip')\n",
    "listings = pd.read_csv('listings.csv.gz', compression='gzip')\n",
    "listings_sum = pd.read_csv('listings.csv')\n",
    "reviews = pd.read_csv('reviews.csv.gz', compression='gzip')\n",
    "neighborhoods = pd.read_csv('neighbourhoods.csv')"
   ]
  },
  {
   "cell_type": "code",
   "execution_count": 72,
   "metadata": {},
   "outputs": [],
   "source": [
    "listings['price'] = listings['price'].str[1:].str.replace(',', '').astype(float)"
   ]
  },
  {
   "cell_type": "code",
   "execution_count": 61,
   "metadata": {},
   "outputs": [
    {
     "data": {
      "text/plain": [
       "16"
      ]
     },
     "execution_count": 61,
     "metadata": {},
     "output_type": "execute_result"
    }
   ],
   "source": [
    "len(listings_sum.head().columns)"
   ]
  },
  {
   "cell_type": "code",
   "execution_count": 76,
   "metadata": {},
   "outputs": [
    {
     "data": {
      "text/html": [
       "<div>\n",
       "<style scoped>\n",
       "    .dataframe tbody tr th:only-of-type {\n",
       "        vertical-align: middle;\n",
       "    }\n",
       "\n",
       "    .dataframe tbody tr th {\n",
       "        vertical-align: top;\n",
       "    }\n",
       "\n",
       "    .dataframe thead th {\n",
       "        text-align: right;\n",
       "    }\n",
       "</style>\n",
       "<table border=\"1\" class=\"dataframe\">\n",
       "  <thead>\n",
       "    <tr style=\"text-align: right;\">\n",
       "      <th></th>\n",
       "      <th>count</th>\n",
       "      <th>mean</th>\n",
       "      <th>std</th>\n",
       "      <th>min</th>\n",
       "      <th>25%</th>\n",
       "      <th>50%</th>\n",
       "      <th>75%</th>\n",
       "      <th>max</th>\n",
       "    </tr>\n",
       "    <tr>\n",
       "      <th>room_type</th>\n",
       "      <th></th>\n",
       "      <th></th>\n",
       "      <th></th>\n",
       "      <th></th>\n",
       "      <th></th>\n",
       "      <th></th>\n",
       "      <th></th>\n",
       "      <th></th>\n",
       "    </tr>\n",
       "  </thead>\n",
       "  <tbody>\n",
       "    <tr>\n",
       "      <th>Entire home/apt</th>\n",
       "      <td>6913.0</td>\n",
       "      <td>264.074063</td>\n",
       "      <td>368.889420</td>\n",
       "      <td>25.0</td>\n",
       "      <td>114.0</td>\n",
       "      <td>170.0</td>\n",
       "      <td>294.0</td>\n",
       "      <td>10000.0</td>\n",
       "    </tr>\n",
       "    <tr>\n",
       "      <th>Hotel room</th>\n",
       "      <td>24.0</td>\n",
       "      <td>133.250000</td>\n",
       "      <td>84.020831</td>\n",
       "      <td>0.0</td>\n",
       "      <td>77.0</td>\n",
       "      <td>96.5</td>\n",
       "      <td>240.0</td>\n",
       "      <td>250.0</td>\n",
       "    </tr>\n",
       "    <tr>\n",
       "      <th>Private room</th>\n",
       "      <td>1676.0</td>\n",
       "      <td>114.025060</td>\n",
       "      <td>397.678764</td>\n",
       "      <td>10.0</td>\n",
       "      <td>50.0</td>\n",
       "      <td>69.0</td>\n",
       "      <td>99.0</td>\n",
       "      <td>9857.0</td>\n",
       "    </tr>\n",
       "    <tr>\n",
       "      <th>Shared room</th>\n",
       "      <td>75.0</td>\n",
       "      <td>111.933333</td>\n",
       "      <td>197.185763</td>\n",
       "      <td>20.0</td>\n",
       "      <td>35.0</td>\n",
       "      <td>40.0</td>\n",
       "      <td>75.0</td>\n",
       "      <td>1000.0</td>\n",
       "    </tr>\n",
       "  </tbody>\n",
       "</table>\n",
       "</div>"
      ],
      "text/plain": [
       "                  count        mean         std   min    25%    50%    75%  \\\n",
       "room_type                                                                    \n",
       "Entire home/apt  6913.0  264.074063  368.889420  25.0  114.0  170.0  294.0   \n",
       "Hotel room         24.0  133.250000   84.020831   0.0   77.0   96.5  240.0   \n",
       "Private room     1676.0  114.025060  397.678764  10.0   50.0   69.0   99.0   \n",
       "Shared room        75.0  111.933333  197.185763  20.0   35.0   40.0   75.0   \n",
       "\n",
       "                     max  \n",
       "room_type                 \n",
       "Entire home/apt  10000.0  \n",
       "Hotel room         250.0  \n",
       "Private room      9857.0  \n",
       "Shared room       1000.0  "
      ]
     },
     "execution_count": 76,
     "metadata": {},
     "output_type": "execute_result"
    }
   ],
   "source": [
    "listings.groupby('room_type')['price'].describe()"
   ]
  },
  {
   "cell_type": "code",
   "execution_count": 92,
   "metadata": {},
   "outputs": [
    {
     "data": {
      "text/html": [
       "<div>\n",
       "<style scoped>\n",
       "    .dataframe tbody tr th:only-of-type {\n",
       "        vertical-align: middle;\n",
       "    }\n",
       "\n",
       "    .dataframe tbody tr th {\n",
       "        vertical-align: top;\n",
       "    }\n",
       "\n",
       "    .dataframe thead th {\n",
       "        text-align: right;\n",
       "    }\n",
       "</style>\n",
       "<table border=\"1\" class=\"dataframe\">\n",
       "  <thead>\n",
       "    <tr style=\"text-align: right;\">\n",
       "      <th></th>\n",
       "      <th>neighbourhood_group</th>\n",
       "      <th>neighbourhood</th>\n",
       "    </tr>\n",
       "  </thead>\n",
       "  <tbody>\n",
       "    <tr>\n",
       "      <th>0</th>\n",
       "      <td>NaN</td>\n",
       "      <td>Allied Gardens</td>\n",
       "    </tr>\n",
       "    <tr>\n",
       "      <th>1</th>\n",
       "      <td>NaN</td>\n",
       "      <td>Alta Vista</td>\n",
       "    </tr>\n",
       "    <tr>\n",
       "      <th>2</th>\n",
       "      <td>NaN</td>\n",
       "      <td>Amphitheater And Water Park</td>\n",
       "    </tr>\n",
       "    <tr>\n",
       "      <th>3</th>\n",
       "      <td>NaN</td>\n",
       "      <td>Balboa Park</td>\n",
       "    </tr>\n",
       "    <tr>\n",
       "      <th>4</th>\n",
       "      <td>NaN</td>\n",
       "      <td>Bario Logan</td>\n",
       "    </tr>\n",
       "    <tr>\n",
       "      <th>...</th>\n",
       "      <td>...</td>\n",
       "      <td>...</td>\n",
       "    </tr>\n",
       "    <tr>\n",
       "      <th>103</th>\n",
       "      <td>NaN</td>\n",
       "      <td>Village Center</td>\n",
       "    </tr>\n",
       "    <tr>\n",
       "      <th>104</th>\n",
       "      <td>NaN</td>\n",
       "      <td>Webster</td>\n",
       "    </tr>\n",
       "    <tr>\n",
       "      <th>105</th>\n",
       "      <td>NaN</td>\n",
       "      <td>West University Heights</td>\n",
       "    </tr>\n",
       "    <tr>\n",
       "      <th>106</th>\n",
       "      <td>NaN</td>\n",
       "      <td>Wooded Area</td>\n",
       "    </tr>\n",
       "    <tr>\n",
       "      <th>107</th>\n",
       "      <td>NaN</td>\n",
       "      <td>Yosemite Dr</td>\n",
       "    </tr>\n",
       "  </tbody>\n",
       "</table>\n",
       "<p>108 rows × 2 columns</p>\n",
       "</div>"
      ],
      "text/plain": [
       "     neighbourhood_group                neighbourhood\n",
       "0                    NaN               Allied Gardens\n",
       "1                    NaN                   Alta Vista\n",
       "2                    NaN  Amphitheater And Water Park\n",
       "3                    NaN                  Balboa Park\n",
       "4                    NaN                  Bario Logan\n",
       "..                   ...                          ...\n",
       "103                  NaN               Village Center\n",
       "104                  NaN                      Webster\n",
       "105                  NaN      West University Heights\n",
       "106                  NaN                  Wooded Area\n",
       "107                  NaN                  Yosemite Dr\n",
       "\n",
       "[108 rows x 2 columns]"
      ]
     },
     "execution_count": 92,
     "metadata": {},
     "output_type": "execute_result"
    }
   ],
   "source": [
    "neighborhoods"
   ]
  },
  {
   "cell_type": "code",
   "execution_count": 93,
   "metadata": {},
   "outputs": [
    {
     "data": {
      "text/html": [
       "<div>\n",
       "<style scoped>\n",
       "    .dataframe tbody tr th:only-of-type {\n",
       "        vertical-align: middle;\n",
       "    }\n",
       "\n",
       "    .dataframe tbody tr th {\n",
       "        vertical-align: top;\n",
       "    }\n",
       "\n",
       "    .dataframe thead th {\n",
       "        text-align: right;\n",
       "    }\n",
       "</style>\n",
       "<table border=\"1\" class=\"dataframe\">\n",
       "  <thead>\n",
       "    <tr style=\"text-align: right;\">\n",
       "      <th></th>\n",
       "      <th>listing_id</th>\n",
       "      <th>id</th>\n",
       "      <th>date</th>\n",
       "      <th>reviewer_id</th>\n",
       "      <th>reviewer_name</th>\n",
       "      <th>comments</th>\n",
       "    </tr>\n",
       "  </thead>\n",
       "  <tbody>\n",
       "    <tr>\n",
       "      <th>0</th>\n",
       "      <td>29967</td>\n",
       "      <td>62788</td>\n",
       "      <td>2010-07-09</td>\n",
       "      <td>151260</td>\n",
       "      <td>Debbie</td>\n",
       "      <td>When I booked our stay in San Diego at Dennis ...</td>\n",
       "    </tr>\n",
       "    <tr>\n",
       "      <th>1</th>\n",
       "      <td>29967</td>\n",
       "      <td>64568</td>\n",
       "      <td>2010-07-14</td>\n",
       "      <td>141552</td>\n",
       "      <td>Eric</td>\n",
       "      <td>This was my first experience with using airbnb...</td>\n",
       "    </tr>\n",
       "    <tr>\n",
       "      <th>2</th>\n",
       "      <td>29967</td>\n",
       "      <td>67502</td>\n",
       "      <td>2010-07-22</td>\n",
       "      <td>141591</td>\n",
       "      <td>David</td>\n",
       "      <td>We found the house to be very accommodating--e...</td>\n",
       "    </tr>\n",
       "    <tr>\n",
       "      <th>3</th>\n",
       "      <td>29967</td>\n",
       "      <td>70466</td>\n",
       "      <td>2010-07-29</td>\n",
       "      <td>125982</td>\n",
       "      <td>Anders</td>\n",
       "      <td>As advertised and more. Dennis was very helpfu...</td>\n",
       "    </tr>\n",
       "    <tr>\n",
       "      <th>4</th>\n",
       "      <td>29967</td>\n",
       "      <td>74876</td>\n",
       "      <td>2010-08-07</td>\n",
       "      <td>29835</td>\n",
       "      <td>Miyoko</td>\n",
       "      <td>We had a great time in San Diego. Denis' house...</td>\n",
       "    </tr>\n",
       "    <tr>\n",
       "      <th>...</th>\n",
       "      <td>...</td>\n",
       "      <td>...</td>\n",
       "      <td>...</td>\n",
       "      <td>...</td>\n",
       "      <td>...</td>\n",
       "      <td>...</td>\n",
       "    </tr>\n",
       "    <tr>\n",
       "      <th>418381</th>\n",
       "      <td>45879403</td>\n",
       "      <td>700933618</td>\n",
       "      <td>2020-10-16</td>\n",
       "      <td>356204795</td>\n",
       "      <td>Shanna</td>\n",
       "      <td>Jeffrey and his girlfriend were outstanding ho...</td>\n",
       "    </tr>\n",
       "    <tr>\n",
       "      <th>418382</th>\n",
       "      <td>45879403</td>\n",
       "      <td>701234991</td>\n",
       "      <td>2020-10-17</td>\n",
       "      <td>57040410</td>\n",
       "      <td>Liz</td>\n",
       "      <td>This place was perfect for me! It was really s...</td>\n",
       "    </tr>\n",
       "    <tr>\n",
       "      <th>418383</th>\n",
       "      <td>45879403</td>\n",
       "      <td>701918134</td>\n",
       "      <td>2020-10-18</td>\n",
       "      <td>310817121</td>\n",
       "      <td>Melissa</td>\n",
       "      <td>This place was beautiful! Didn’t have a doubt....</td>\n",
       "    </tr>\n",
       "    <tr>\n",
       "      <th>418384</th>\n",
       "      <td>45879403</td>\n",
       "      <td>702188172</td>\n",
       "      <td>2020-10-19</td>\n",
       "      <td>46954062</td>\n",
       "      <td>Steven</td>\n",
       "      <td>Highly recommend this place for anyone wanting...</td>\n",
       "    </tr>\n",
       "    <tr>\n",
       "      <th>418385</th>\n",
       "      <td>45879403</td>\n",
       "      <td>702383354</td>\n",
       "      <td>2020-10-20</td>\n",
       "      <td>130495383</td>\n",
       "      <td>Jady</td>\n",
       "      <td>This unit was fantastic! It was exactly as pic...</td>\n",
       "    </tr>\n",
       "  </tbody>\n",
       "</table>\n",
       "<p>418386 rows × 6 columns</p>\n",
       "</div>"
      ],
      "text/plain": [
       "        listing_id         id        date  reviewer_id reviewer_name  \\\n",
       "0            29967      62788  2010-07-09       151260        Debbie   \n",
       "1            29967      64568  2010-07-14       141552          Eric   \n",
       "2            29967      67502  2010-07-22       141591         David   \n",
       "3            29967      70466  2010-07-29       125982        Anders   \n",
       "4            29967      74876  2010-08-07        29835        Miyoko   \n",
       "...            ...        ...         ...          ...           ...   \n",
       "418381    45879403  700933618  2020-10-16    356204795        Shanna   \n",
       "418382    45879403  701234991  2020-10-17     57040410           Liz   \n",
       "418383    45879403  701918134  2020-10-18    310817121       Melissa   \n",
       "418384    45879403  702188172  2020-10-19     46954062        Steven   \n",
       "418385    45879403  702383354  2020-10-20    130495383          Jady   \n",
       "\n",
       "                                                 comments  \n",
       "0       When I booked our stay in San Diego at Dennis ...  \n",
       "1       This was my first experience with using airbnb...  \n",
       "2       We found the house to be very accommodating--e...  \n",
       "3       As advertised and more. Dennis was very helpfu...  \n",
       "4       We had a great time in San Diego. Denis' house...  \n",
       "...                                                   ...  \n",
       "418381  Jeffrey and his girlfriend were outstanding ho...  \n",
       "418382  This place was perfect for me! It was really s...  \n",
       "418383  This place was beautiful! Didn’t have a doubt....  \n",
       "418384  Highly recommend this place for anyone wanting...  \n",
       "418385  This unit was fantastic! It was exactly as pic...  \n",
       "\n",
       "[418386 rows x 6 columns]"
      ]
     },
     "execution_count": 93,
     "metadata": {},
     "output_type": "execute_result"
    }
   ],
   "source": [
    "reviews"
   ]
  },
  {
   "cell_type": "code",
   "execution_count": 96,
   "metadata": {},
   "outputs": [],
   "source": [
    "neighborhoods_gpd = gpd.read_file('neighbourhoods.geojson')"
   ]
  },
  {
   "cell_type": "code",
   "execution_count": 97,
   "metadata": {},
   "outputs": [
    {
     "data": {
      "text/html": [
       "<div>\n",
       "<style scoped>\n",
       "    .dataframe tbody tr th:only-of-type {\n",
       "        vertical-align: middle;\n",
       "    }\n",
       "\n",
       "    .dataframe tbody tr th {\n",
       "        vertical-align: top;\n",
       "    }\n",
       "\n",
       "    .dataframe thead th {\n",
       "        text-align: right;\n",
       "    }\n",
       "</style>\n",
       "<table border=\"1\" class=\"dataframe\">\n",
       "  <thead>\n",
       "    <tr style=\"text-align: right;\">\n",
       "      <th></th>\n",
       "      <th>neighbourhood</th>\n",
       "      <th>neighbourhood_group</th>\n",
       "      <th>geometry</th>\n",
       "    </tr>\n",
       "  </thead>\n",
       "  <tbody>\n",
       "    <tr>\n",
       "      <th>0</th>\n",
       "      <td>Amphitheater And Water Park</td>\n",
       "      <td>None</td>\n",
       "      <td>MULTIPOLYGON (((-117.01452 32.58790, -117.0144...</td>\n",
       "    </tr>\n",
       "    <tr>\n",
       "      <th>1</th>\n",
       "      <td>Bella Lago</td>\n",
       "      <td>None</td>\n",
       "      <td>MULTIPOLYGON (((-116.94128 32.68431, -116.9412...</td>\n",
       "    </tr>\n",
       "    <tr>\n",
       "      <th>2</th>\n",
       "      <td>Bonita Long Canyon</td>\n",
       "      <td>None</td>\n",
       "      <td>MULTIPOLYGON (((-117.01149 32.66352, -117.0114...</td>\n",
       "    </tr>\n",
       "    <tr>\n",
       "      <th>3</th>\n",
       "      <td>East Lake</td>\n",
       "      <td>None</td>\n",
       "      <td>MULTIPOLYGON (((-116.99302 32.66040, -116.9816...</td>\n",
       "    </tr>\n",
       "    <tr>\n",
       "      <th>4</th>\n",
       "      <td>Eastlake Trails</td>\n",
       "      <td>None</td>\n",
       "      <td>MULTIPOLYGON (((-116.95512 32.64124, -116.9550...</td>\n",
       "    </tr>\n",
       "    <tr>\n",
       "      <th>...</th>\n",
       "      <td>...</td>\n",
       "      <td>...</td>\n",
       "      <td>...</td>\n",
       "    </tr>\n",
       "    <tr>\n",
       "      <th>103</th>\n",
       "      <td>University City</td>\n",
       "      <td>None</td>\n",
       "      <td>MULTIPOLYGON (((-117.21464 32.87919, -117.2139...</td>\n",
       "    </tr>\n",
       "    <tr>\n",
       "      <th>104</th>\n",
       "      <td>Valencia Park</td>\n",
       "      <td>None</td>\n",
       "      <td>MULTIPOLYGON (((-117.08555 32.70113, -117.0854...</td>\n",
       "    </tr>\n",
       "    <tr>\n",
       "      <th>105</th>\n",
       "      <td>Webster</td>\n",
       "      <td>None</td>\n",
       "      <td>MULTIPOLYGON (((-117.11058 32.71833, -117.1102...</td>\n",
       "    </tr>\n",
       "    <tr>\n",
       "      <th>106</th>\n",
       "      <td>West University Heights</td>\n",
       "      <td>None</td>\n",
       "      <td>MULTIPOLYGON (((-117.16408 32.76053, -117.1636...</td>\n",
       "    </tr>\n",
       "    <tr>\n",
       "      <th>107</th>\n",
       "      <td>Wooded Area</td>\n",
       "      <td>None</td>\n",
       "      <td>MULTIPOLYGON (((-117.25856 32.72576, -117.2585...</td>\n",
       "    </tr>\n",
       "  </tbody>\n",
       "</table>\n",
       "<p>108 rows × 3 columns</p>\n",
       "</div>"
      ],
      "text/plain": [
       "                   neighbourhood neighbourhood_group  \\\n",
       "0    Amphitheater And Water Park                None   \n",
       "1                     Bella Lago                None   \n",
       "2             Bonita Long Canyon                None   \n",
       "3                      East Lake                None   \n",
       "4                Eastlake Trails                None   \n",
       "..                           ...                 ...   \n",
       "103              University City                None   \n",
       "104                Valencia Park                None   \n",
       "105                      Webster                None   \n",
       "106      West University Heights                None   \n",
       "107                  Wooded Area                None   \n",
       "\n",
       "                                              geometry  \n",
       "0    MULTIPOLYGON (((-117.01452 32.58790, -117.0144...  \n",
       "1    MULTIPOLYGON (((-116.94128 32.68431, -116.9412...  \n",
       "2    MULTIPOLYGON (((-117.01149 32.66352, -117.0114...  \n",
       "3    MULTIPOLYGON (((-116.99302 32.66040, -116.9816...  \n",
       "4    MULTIPOLYGON (((-116.95512 32.64124, -116.9550...  \n",
       "..                                                 ...  \n",
       "103  MULTIPOLYGON (((-117.21464 32.87919, -117.2139...  \n",
       "104  MULTIPOLYGON (((-117.08555 32.70113, -117.0854...  \n",
       "105  MULTIPOLYGON (((-117.11058 32.71833, -117.1102...  \n",
       "106  MULTIPOLYGON (((-117.16408 32.76053, -117.1636...  \n",
       "107  MULTIPOLYGON (((-117.25856 32.72576, -117.2585...  \n",
       "\n",
       "[108 rows x 3 columns]"
      ]
     },
     "execution_count": 97,
     "metadata": {},
     "output_type": "execute_result"
    }
   ],
   "source": [
    "neighborhoods_gpd"
   ]
  },
  {
   "cell_type": "code",
   "execution_count": 114,
   "metadata": {},
   "outputs": [
    {
     "data": {
      "text/plain": [
       "'71 year old gay white Australian male who lives with a member of his chosen family. I train in the area of cultural diversity, and administer stipend programs which recruit graduating masters level students in couples and family therapy for the public mental health system in CA.'"
      ]
     },
     "execution_count": 114,
     "metadata": {},
     "output_type": "execute_result"
    }
   ],
   "source": [
    "listings['host_about'][6]"
   ]
  },
  {
   "cell_type": "code",
   "execution_count": 120,
   "metadata": {},
   "outputs": [
    {
     "data": {
      "text/plain": [
       "Index(['id', 'listing_url', 'scrape_id', 'last_scraped', 'name', 'description',\n",
       "       'neighborhood_overview', 'picture_url', 'host_id', 'host_url',\n",
       "       'host_name', 'host_since', 'host_location', 'host_about',\n",
       "       'host_response_time', 'host_response_rate', 'host_acceptance_rate',\n",
       "       'host_is_superhost', 'host_thumbnail_url', 'host_picture_url',\n",
       "       'host_neighbourhood', 'host_listings_count',\n",
       "       'host_total_listings_count', 'host_verifications',\n",
       "       'host_has_profile_pic', 'host_identity_verified', 'neighbourhood',\n",
       "       'neighbourhood_cleansed', 'neighbourhood_group_cleansed', 'latitude',\n",
       "       'longitude', 'property_type', 'room_type', 'accommodates', 'bathrooms',\n",
       "       'bathrooms_text', 'bedrooms', 'beds', 'amenities', 'price',\n",
       "       'minimum_nights', 'maximum_nights', 'minimum_minimum_nights',\n",
       "       'maximum_minimum_nights', 'minimum_maximum_nights',\n",
       "       'maximum_maximum_nights', 'minimum_nights_avg_ntm',\n",
       "       'maximum_nights_avg_ntm', 'calendar_updated', 'has_availability',\n",
       "       'availability_30', 'availability_60', 'availability_90',\n",
       "       'availability_365', 'calendar_last_scraped', 'number_of_reviews',\n",
       "       'number_of_reviews_ltm', 'number_of_reviews_l30d', 'first_review',\n",
       "       'last_review', 'review_scores_rating', 'review_scores_accuracy',\n",
       "       'review_scores_cleanliness', 'review_scores_checkin',\n",
       "       'review_scores_communication', 'review_scores_location',\n",
       "       'review_scores_value', 'license', 'instant_bookable',\n",
       "       'calculated_host_listings_count',\n",
       "       'calculated_host_listings_count_entire_homes',\n",
       "       'calculated_host_listings_count_private_rooms',\n",
       "       'calculated_host_listings_count_shared_rooms', 'reviews_per_month'],\n",
       "      dtype='object')"
      ]
     },
     "execution_count": 120,
     "metadata": {},
     "output_type": "execute_result"
    }
   ],
   "source": [
    "listings.columns"
   ]
  },
  {
   "cell_type": "code",
   "execution_count": 129,
   "metadata": {},
   "outputs": [
    {
     "data": {
      "text/plain": [
       "791    Private half-bath\n",
       "Name: bathrooms_text, dtype: object"
      ]
     },
     "execution_count": 129,
     "metadata": {},
     "output_type": "execute_result"
    }
   ],
   "source": [
    "listings['bathrooms_text'].str[0]"
   ]
  },
  {
   "cell_type": "code",
   "execution_count": 13,
   "metadata": {},
   "outputs": [
    {
     "data": {
      "text/plain": [
       "418386"
      ]
     },
     "execution_count": 13,
     "metadata": {},
     "output_type": "execute_result"
    }
   ],
   "source": [
    "len(reviews['id'].unique())"
   ]
  },
  {
   "cell_type": "code",
   "execution_count": 31,
   "metadata": {},
   "outputs": [],
   "source": [
    "check = reviews.groupby('reviewer_id')['listing_id'].count().sort_values(ascending=False)#[:10000].hist(bins=67)\n",
    "repeat_users = check[check > 1].index"
   ]
  },
  {
   "cell_type": "code",
   "execution_count": 50,
   "metadata": {},
   "outputs": [
    {
     "data": {
      "text/plain": [
       "Great place                                                                                                                                                                                                                                                                                                                                        122\n",
       "Great place!                                                                                                                                                                                                                                                                                                                                       100\n",
       "Nice place                                                                                                                                                                                                                                                                                                                                          58\n",
       "Great location                                                                                                                                                                                                                                                                                                                                      52\n",
       "Great location!                                                                                                                                                                                                                                                                                                                                     51\n",
       "                                                                                                                                                                                                                                                                                                                                                  ... \n",
       "Anne’s cottage was a great place to stay in the area. The amenities were perfect for our stay, there were little touches like cream for the coffee and a basket of snacks (perfect for our little one). \\n\\nThe area is perfect for walking around. There are bars and restaurants and a coffee shop with breakfast all in a 2 or 3 block area.      1\n",
       "Kyle and Paige were fantastic. Would not hesitate to use them again or recommend them highly to any prospective visitors. They were kind, accommodating, and very considerate toward us. We couldn't have been happier with our experience at the cottage.                                                                                           1\n",
       "A lovely place SO close to everything! We ate out, rented bikes and paddleboards, walked all over. The place is cozy and at night it's a bit loud when any rambunctious tourists/drivers pass by on Mission Ave. Fans helped the air flow and cool down at night and provided some white noise.                                                      1\n",
       "Thank you, Ryan, for an amazing stay!                                                                                                                                                                                                                                                                                                                1\n",
       "Perfect if you are on your own !                                                                                                                                                                                                                                                                                                                     1\n",
       "Name: comments, Length: 68141, dtype: int64"
      ]
     },
     "execution_count": 50,
     "metadata": {},
     "output_type": "execute_result"
    }
   ],
   "source": [
    "reviews[reviews['reviewer_id'].isin(repeat_users)].comments.value_counts()"
   ]
  },
  {
   "cell_type": "markdown",
   "metadata": {},
   "source": [
    "#### Reference Code"
   ]
  },
  {
   "cell_type": "code",
   "execution_count": 54,
   "metadata": {},
   "outputs": [
    {
     "data": {
      "text/plain": [
       "TfidfVectorizer(max_df=0.5, min_df=2, ngram_range=(1, 2), stop_words='english',\n",
       "                tokenizer=<bound method TreebankWordTokenizer.tokenize of <nltk.tokenize.treebank.TreebankWordTokenizer object at 0x7f83a43190a0>>)"
      ]
     },
     "execution_count": 54,
     "metadata": {},
     "output_type": "execute_result"
    }
   ],
   "source": [
    "tfidf_vectorizer = TfidfVectorizer()\n",
    "\n",
    "tokenizer = TreebankWordTokenizer()\n",
    "tfidf_vectorizer.set_params(tokenizer=tokenizer.tokenize)\n",
    "\n",
    "# remove English stop words\n",
    "tfidf_vectorizer.set_params(stop_words='english')\n",
    "\n",
    "# include 1-grams and 2-grams\n",
    "tfidf_vectorizer.set_params(ngram_range=(1, 2))\n",
    "\n",
    "# ignore terms that appear in more than 50% of the documents\n",
    "tfidf_vectorizer.set_params(max_df=0.5)\n",
    "\n",
    "# only keep terms that appear in at least 2 documents\n",
    "tfidf_vectorizer.set_params(min_df=2)\n",
    "\n",
    "# fit tokenizer\n",
    "#tfidf_vectorizer.fit(category_train)"
   ]
  },
  {
   "cell_type": "code",
   "execution_count": null,
   "metadata": {},
   "outputs": [],
   "source": [
    "# tfidf_encode = tfidf_vectorizer.transform(category_train)\n",
    "# tfidf_model = linear_model.LogisticRegression(C=10, fit_intercept=False, max_iter=1000)\n",
    "# tfidf_model.fit(tfidf_encode, y)\n",
    "# tfidf_preds = tfidf_model.predict(tfidf_encode)\n",
    "# tfidf_acc = np.mean(np.array(tfidf_preds) == np.array(y))\n",
    "# tfidf_acc"
   ]
  },
  {
   "cell_type": "code",
   "execution_count": 51,
   "metadata": {},
   "outputs": [],
   "source": [
    "# Using cosine similarity to find similarity fo reviews\n",
    "def cosine(list_1, list_2): \n",
    "    # Turn lists into numpy arrays\n",
    "    a1 = np.array(list_1)\n",
    "    a2 = np.array(list_2)\n",
    "\n",
    "    # Cosine similarity function\n",
    "    numer = np.dot(a1, a2)\n",
    "    denom = np.sqrt(sum(a1**2)) * np.sqrt(sum(a2**2))\n",
    "    \n",
    "    if denom == 0:\n",
    "        return 0\n",
    "    \n",
    "    return numer / denom"
   ]
  },
  {
   "cell_type": "code",
   "execution_count": 52,
   "metadata": {},
   "outputs": [],
   "source": [
    "def find_most_similar(selected, all_docs, wordsList, wordsIds):\n",
    "    best_similarity = 0\n",
    "    most_similar = None\n",
    "    \n",
    "    # Get all idf values\n",
    "    all_idfs = get_idf(all_docs, wordsIds)\n",
    "    \n",
    "    # Get selected tf-idf values\n",
    "    tf_idf_selected = tf_idf(selected, wordsList, wordsIds, all_idfs)\n",
    "    \n",
    "    rest_of_docs = all_docs.copy()\n",
    "    rest_of_docs.remove(chosen_review)\n",
    "    \n",
    "    # Iterate through each review, get tf-idf values, and compute similarity\n",
    "    for review in rest_of_docs:\n",
    "        tf_idf_compare = tf_idf_encode(review, wordsList, wordsIds, all_idfs)\n",
    "        similarity = cosine(tf_idf_selected, tf_idf_compare)\n",
    "        \n",
    "        # If this similarity is the highest make it the best similarity so far, and save the review\n",
    "        if similarity > best_similarity:\n",
    "            best_similarity = similarity\n",
    "            most_similar = review\n",
    "            \n",
    "    # Return review with highest similarity value\n",
    "    return most_similar"
   ]
  },
  {
   "cell_type": "code",
   "execution_count": null,
   "metadata": {},
   "outputs": [],
   "source": []
  }
 ],
 "metadata": {
  "kernelspec": {
   "display_name": "Python 3",
   "language": "python",
   "name": "python3"
  },
  "language_info": {
   "codemirror_mode": {
    "name": "ipython",
    "version": 3
   },
   "file_extension": ".py",
   "mimetype": "text/x-python",
   "name": "python",
   "nbconvert_exporter": "python",
   "pygments_lexer": "ipython3",
   "version": "3.8.3"
  }
 },
 "nbformat": 4,
 "nbformat_minor": 4
}
